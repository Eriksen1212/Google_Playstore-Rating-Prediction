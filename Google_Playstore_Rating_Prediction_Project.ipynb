{
  "nbformat": 4,
  "nbformat_minor": 0,
  "metadata": {
    "colab": {
      "provenance": []
    },
    "kernelspec": {
      "name": "python3",
      "display_name": "Python 3"
    },
    "language_info": {
      "name": "python"
    }
  },
  "cells": [
    {
      "cell_type": "markdown",
      "source": [
        "# **Google Playstore Rating Prediction Term Project**\n",
        "\n"
      ],
      "metadata": {
        "id": "9fomBjLQG0Oj"
      }
    },
    {
      "cell_type": "markdown",
      "source": [
        "**Phase 1:**\n",
        "\n",
        "### Data Selection\n",
        "\n",
        "**해결하고자 하는 문제**\n",
        "\n",
        "이 프로젝트에서는 Google Play Store에 등록된 앱들의 정보(카테고리, 리뷰 수, 설치 수, 가격, 평점, 앱 크기, 콘텐츠 등급 등)를 활용하여 앱의 “평점(Rating)”을 예측하는 회귀(regression) 모델을 구축할 계획입니다.\n",
        "\n",
        "**문제정의 배경**:\n",
        "\n",
        "- 앱 개발자나 마케터는 출시 전 앱의 특성(가격, 카테고리, 설치 수, 리뷰 수, 업데이트 횟수 등)에 따라 앱 평점이 어느 정도일지 예측할 수 있다면, 앱 개선 방향성 제시, 마케팅 전략 수립, 가격 정책 설정 등에 도움을 받을 수 있습니다.\n",
        "- 앱 스토어에 대한 이해를 높이고, 어떤 특징이 높은 평점을 유도하는지 파악할 수 있다면, 궁극적으로 유저 만족도 개선에 기여할 수 있습니다.\n",
        "\n",
        "**프로젝트 목표**:\n",
        "\n",
        "- 앱의 다양한 속성(카테고리, 설치 수, 리뷰 수, 가격 등등)으로부터 평점(Rating)을 예측하는 머신러닝 회귀 모델 개발하는 것입니다.\n",
        "- 다양한 모델(선형회귀, 랜덤포레스트, 그라디언트 부스팅과 같은 앙상블 모델 등)을 비교할 것입니다. 전처리(결측치 처리, 이상치 제거, 범주형 인코딩, 스케일링) 및 하이퍼파라미터 튜닝을 통해 최적의 모델을 선정할 계획입니다.\n",
        "\n",
        "\n",
        "**데이터셋 선정 및 출처**\n",
        "\n",
        "**데이터셋**: Google Play Store Apps\n",
        "\n",
        "**출처**: [Kaggle: Google Play Store Apps](https://www.kaggle.com/datasets/lava18/google-play-store-apps)\n",
        "\n",
        "**데이터셋 설명**:\n",
        "\n",
        "이 데이터셋은 Google Play Store에 등록된 약 10,000여 개의 앱에 대한 정보와 특성을 포함하고 있다. 주요 feature는 다음과 같습니다.\n",
        "\n",
        "- App: 앱 이름\n",
        "- Category: 앱이 속한 카테고리\n",
        "- Rating: 앱 평점 (목표변수, 연속형)\n",
        "- Reviews: 리뷰 수 (수치형)\n",
        "- Size: 앱 크기 (문자열 형태, 추후 변환 필요)\n",
        "- Installs: 설치 수 (문자열 형태, 추후 변환 필요)\n",
        "- Type: 유료/무료 여부 (범주형)\n",
        "- Price: 가격 (문자열 형태, 추후 변환 필요)\n",
        "- Content Rating: 콘텐츠 등급 (범주형)\n",
        "- Genres: 장르 (범주형)\n",
        "- Last Updated: 마지막 업데이트 날짜 (시간정보)\n",
        "- Current Ver: 현재 버전 (문자열 형태)\n",
        "- Android Ver: 최소 지원 안드로이드 버전 (문자열 형태)\n",
        "\n",
        "**데이터셋 제한 조건 확인**:\n",
        "\n",
        "- Feature 개수: 13개의 피쳐가 존재합니다. 일부 피쳐를 전처리하고 필요없는 열을 제거해도 10개 이상의 피쳐를 유지할 수 있습니다.\n",
        "- Instance 개수: 약 10,000개 이상의 데이터가 존재합니다.\n",
        "\n",
        "\n",
        "### 문제 설정 및 전체적인 과제 설계\n",
        "\n",
        "**기계학습 모델 활용 방안**\n",
        "\n",
        "이 문제는 앱의 특성을 활용해 앱 평점(Rating)을 예측하는 **회귀(Regression) 문제**로 정의하였습니다. 지도학습을 통해 다음과 같은 모델들을 고려할 수 있습니다.\n",
        "\n",
        "- 선형 회귀(Linear Regression)\n",
        "- 의사결정트리 기반 회귀(Decision Tree Regressor)\n",
        "- 랜덤 포레스트 회귀(Random Forest Regressor)\n",
        "- 그래디언트 부스팅 (Gradient Boosting Regressor, XGBoost, LightGBM 등)\n",
        "\n",
        "여러 모델을 비교한 뒤 성능이 가장 우수한 모델을 최종적으로 선정할 계획입니다.\n",
        "\n",
        "**현재 사용되고 있는 방법이나 해결책 존재 여부**\n",
        "\n",
        "- 기존에는 앱 평점 관리를 위해 키워드 리서치, 리뷰 분석을 통한 정성적 접근이 주류였습니다.\n",
        "- 최근에는 머신러닝을 활용한 텍스트 리뷰 감성 분석, 앱 스토어 메타데이터(가격, 장르, 카테고리, 다운로드 수) 등을 활용한 평점 예측 시도가 존재합니다.\n",
        "\n",
        "이번 프로젝트에서는 공개된 데이터셋과 머신러닝 기법을 활용하여 평점 예측 문제에 접근하고, 다양한 모델 성능을 비교할 예정입니다.\n",
        "\n",
        "**문제 정의**\n",
        "\n",
        "Rating을 예측하는 것을 목표로 합니다.\n",
        "- **정의**: 지도학습(Supervised Learning) → 회귀(Regression) 문제\n",
        "- **입력(X)**: Category(범주형), Reviews(수치형), Installs(수치형 변환 필요), Size(수치형 변환 필요), Price(수치형 변환 필요), Content Rating(범주형), Type(범주형), 등\n",
        "- **출력(y)**: Rating(연속형 값)\n",
        "\n",
        "**모델의 성능 지표 선정 (3개)**\n",
        "\n",
        "회귀 모델 평가를 위해 다음 세 가지 성능 지표를 사용할 계획입니다.\n",
        "\n",
        "1. **MSE(Mean Squared Error)**\n",
        "    - 예측값과 실제값의 차이를 제곱한 뒤 평균한 값\n",
        "    - 큰 오차에 더 큰 페널티를 부여\n",
        "2. **MAE(Mean Absolute Error)**\n",
        "    - 예측값과 실제값의 차이 절댓값을 평균한 값\n",
        "    - MSE보다 직관적이며 이상치에 덜 민감함\n",
        "3. **R²(Coefficient of Determination)**\n",
        "    - 모델이 종속 변수 변동성을 어느 정도 설명하는지를 나타내는 지표\n",
        "    - 1에 가까울수록 모델이 타겟 변동성을 잘 설명함\n",
        "\n",
        "**지표 선택 이유**:\n",
        "\n",
        "- 평점(Rating)은 1~5 사이의 범위를 갖는 연속형 값입니다. MSE와 MAE를 통해 모델이 실제 평점에 얼마나 근접한 값을 예측하는지 정량화할 수 있다.\n",
        "- MSE는 큰 오차에 민감하므로 잘못된 예측이 있는지 확인하기 좋고, MAE는 평균적인 예측 오차 수준을 파악하는데 유용합니다.\n",
        "- R²는 모델이 베이스라인(평균 예측) 대비 얼마나 향상되었는지 정성적으로 파악할 수 있게 해줍니다.\n",
        "\n",
        "**성과 측정 방법 및 목표 성능 설정**\n",
        "\n",
        "- 성능 측정은 Train/Validation Split 및 K-fold Cross-Validation을 사용하여 일반화 능력을 평가할 계획입니다.\n",
        "- 최종 모델 평가는 따로 분리한 Test-set을 사용할 예정입니다.\n",
        "- 목표: R² 점수를 최대한 0보다 높게 하는 것을 목표로 합니다.\n",
        "- MSE와 MAE를 가능한 낮추어, 평균적으로 앱 평점을 0.3~0.5 이내로 예측할 수 있는 것을 1차 목표로 하였습니다.\n"
      ],
      "metadata": {
        "id": "FKaQ_NZ6zfX8"
      }
    },
    {
      "cell_type": "markdown",
      "source": [
        "## Phase 2: 코드 구현\n",
        "\n",
        "Library 추가\n",
        "\n"
      ],
      "metadata": {
        "id": "fux_8LOsMx-a"
      }
    },
    {
      "cell_type": "code",
      "execution_count": null,
      "metadata": {
        "colab": {
          "base_uri": "https://localhost:8080/"
        },
        "collapsed": true,
        "id": "6j5RePfAJnji",
        "outputId": "bfb58c79-c118-48f0-bdbd-8d472f1e9829"
      },
      "outputs": [
        {
          "output_type": "stream",
          "name": "stdout",
          "text": [
            "Collecting sklearn-evaluation\n",
            "  Downloading sklearn_evaluation-0.12.2-py3-none-any.whl.metadata (1.3 kB)\n",
            "Collecting ploomber-core>=0.2.6 (from sklearn-evaluation)\n",
            "  Downloading ploomber_core-0.2.26-py3-none-any.whl.metadata (527 bytes)\n",
            "Collecting ploomber-extension (from sklearn-evaluation)\n",
            "  Downloading ploomber_extension-0.1.1-py3-none-any.whl.metadata (7.5 kB)\n",
            "Requirement already satisfied: scikit-learn in /usr/local/lib/python3.10/dist-packages (from sklearn-evaluation) (1.6.0)\n",
            "Requirement already satisfied: matplotlib in /usr/local/lib/python3.10/dist-packages (from sklearn-evaluation) (3.8.0)\n",
            "Requirement already satisfied: decorator in /usr/local/lib/python3.10/dist-packages (from sklearn-evaluation) (4.4.2)\n",
            "Requirement already satisfied: tabulate in /usr/local/lib/python3.10/dist-packages (from sklearn-evaluation) (0.9.0)\n",
            "Requirement already satisfied: jinja2 in /usr/local/lib/python3.10/dist-packages (from sklearn-evaluation) (3.1.4)\n",
            "Requirement already satisfied: mistune in /usr/local/lib/python3.10/dist-packages (from sklearn-evaluation) (3.0.2)\n",
            "Requirement already satisfied: pandas in /usr/local/lib/python3.10/dist-packages (from sklearn-evaluation) (2.2.2)\n",
            "Requirement already satisfied: nbformat in /usr/local/lib/python3.10/dist-packages (from sklearn-evaluation) (5.10.4)\n",
            "Requirement already satisfied: ipython in /usr/local/lib/python3.10/dist-packages (from sklearn-evaluation) (7.34.0)\n",
            "Collecting black (from sklearn-evaluation)\n",
            "  Downloading black-24.10.0-cp310-cp310-manylinux_2_17_x86_64.manylinux2014_x86_64.manylinux_2_28_x86_64.whl.metadata (79 kB)\n",
            "\u001b[2K     \u001b[90m━━━━━━━━━━━━━━━━━━━━━━━━━━━━━━━━━━━━━━━━\u001b[0m \u001b[32m79.2/79.2 kB\u001b[0m \u001b[31m2.6 MB/s\u001b[0m eta \u001b[36m0:00:00\u001b[0m\n",
            "\u001b[?25hRequirement already satisfied: parso in /usr/local/lib/python3.10/dist-packages (from sklearn-evaluation) (0.8.4)\n",
            "Requirement already satisfied: pyyaml in /usr/local/lib/python3.10/dist-packages (from ploomber-core>=0.2.6->sklearn-evaluation) (6.0.2)\n",
            "Collecting posthog (from ploomber-core>=0.2.6->sklearn-evaluation)\n",
            "  Downloading posthog-3.7.4-py2.py3-none-any.whl.metadata (2.0 kB)\n",
            "Requirement already satisfied: click>=8.0.0 in /usr/local/lib/python3.10/dist-packages (from black->sklearn-evaluation) (8.1.7)\n",
            "Collecting mypy-extensions>=0.4.3 (from black->sklearn-evaluation)\n",
            "  Downloading mypy_extensions-1.0.0-py3-none-any.whl.metadata (1.1 kB)\n",
            "Requirement already satisfied: packaging>=22.0 in /usr/local/lib/python3.10/dist-packages (from black->sklearn-evaluation) (24.2)\n",
            "Collecting pathspec>=0.9.0 (from black->sklearn-evaluation)\n",
            "  Downloading pathspec-0.12.1-py3-none-any.whl.metadata (21 kB)\n",
            "Requirement already satisfied: platformdirs>=2 in /usr/local/lib/python3.10/dist-packages (from black->sklearn-evaluation) (4.3.6)\n",
            "Requirement already satisfied: tomli>=1.1.0 in /usr/local/lib/python3.10/dist-packages (from black->sklearn-evaluation) (2.2.1)\n",
            "Requirement already satisfied: typing-extensions>=4.0.1 in /usr/local/lib/python3.10/dist-packages (from black->sklearn-evaluation) (4.12.2)\n",
            "Requirement already satisfied: setuptools>=18.5 in /usr/local/lib/python3.10/dist-packages (from ipython->sklearn-evaluation) (75.1.0)\n",
            "Collecting jedi>=0.16 (from ipython->sklearn-evaluation)\n",
            "  Downloading jedi-0.19.2-py2.py3-none-any.whl.metadata (22 kB)\n",
            "Requirement already satisfied: pickleshare in /usr/local/lib/python3.10/dist-packages (from ipython->sklearn-evaluation) (0.7.5)\n",
            "Requirement already satisfied: traitlets>=4.2 in /usr/local/lib/python3.10/dist-packages (from ipython->sklearn-evaluation) (5.7.1)\n",
            "Requirement already satisfied: prompt-toolkit!=3.0.0,!=3.0.1,<3.1.0,>=2.0.0 in /usr/local/lib/python3.10/dist-packages (from ipython->sklearn-evaluation) (3.0.48)\n",
            "Requirement already satisfied: pygments in /usr/local/lib/python3.10/dist-packages (from ipython->sklearn-evaluation) (2.18.0)\n",
            "Requirement already satisfied: backcall in /usr/local/lib/python3.10/dist-packages (from ipython->sklearn-evaluation) (0.2.0)\n",
            "Requirement already satisfied: matplotlib-inline in /usr/local/lib/python3.10/dist-packages (from ipython->sklearn-evaluation) (0.1.7)\n",
            "Requirement already satisfied: pexpect>4.3 in /usr/local/lib/python3.10/dist-packages (from ipython->sklearn-evaluation) (4.9.0)\n",
            "Requirement already satisfied: MarkupSafe>=2.0 in /usr/local/lib/python3.10/dist-packages (from jinja2->sklearn-evaluation) (3.0.2)\n",
            "Requirement already satisfied: contourpy>=1.0.1 in /usr/local/lib/python3.10/dist-packages (from matplotlib->sklearn-evaluation) (1.3.1)\n",
            "Requirement already satisfied: cycler>=0.10 in /usr/local/lib/python3.10/dist-packages (from matplotlib->sklearn-evaluation) (0.12.1)\n",
            "Requirement already satisfied: fonttools>=4.22.0 in /usr/local/lib/python3.10/dist-packages (from matplotlib->sklearn-evaluation) (4.55.3)\n",
            "Requirement already satisfied: kiwisolver>=1.0.1 in /usr/local/lib/python3.10/dist-packages (from matplotlib->sklearn-evaluation) (1.4.7)\n",
            "Requirement already satisfied: numpy<2,>=1.21 in /usr/local/lib/python3.10/dist-packages (from matplotlib->sklearn-evaluation) (1.26.4)\n",
            "Requirement already satisfied: pillow>=6.2.0 in /usr/local/lib/python3.10/dist-packages (from matplotlib->sklearn-evaluation) (11.0.0)\n",
            "Requirement already satisfied: pyparsing>=2.3.1 in /usr/local/lib/python3.10/dist-packages (from matplotlib->sklearn-evaluation) (3.2.0)\n",
            "Requirement already satisfied: python-dateutil>=2.7 in /usr/local/lib/python3.10/dist-packages (from matplotlib->sklearn-evaluation) (2.8.2)\n",
            "Requirement already satisfied: fastjsonschema>=2.15 in /usr/local/lib/python3.10/dist-packages (from nbformat->sklearn-evaluation) (2.21.1)\n",
            "Requirement already satisfied: jsonschema>=2.6 in /usr/local/lib/python3.10/dist-packages (from nbformat->sklearn-evaluation) (4.23.0)\n",
            "Requirement already satisfied: jupyter-core!=5.0.*,>=4.12 in /usr/local/lib/python3.10/dist-packages (from nbformat->sklearn-evaluation) (5.7.2)\n",
            "Requirement already satisfied: pytz>=2020.1 in /usr/local/lib/python3.10/dist-packages (from pandas->sklearn-evaluation) (2024.2)\n",
            "Requirement already satisfied: tzdata>=2022.7 in /usr/local/lib/python3.10/dist-packages (from pandas->sklearn-evaluation) (2024.2)\n",
            "Requirement already satisfied: scipy>=1.6.0 in /usr/local/lib/python3.10/dist-packages (from scikit-learn->sklearn-evaluation) (1.13.1)\n",
            "Requirement already satisfied: joblib>=1.2.0 in /usr/local/lib/python3.10/dist-packages (from scikit-learn->sklearn-evaluation) (1.4.2)\n",
            "Requirement already satisfied: threadpoolctl>=3.1.0 in /usr/local/lib/python3.10/dist-packages (from scikit-learn->sklearn-evaluation) (3.5.0)\n",
            "Requirement already satisfied: attrs>=22.2.0 in /usr/local/lib/python3.10/dist-packages (from jsonschema>=2.6->nbformat->sklearn-evaluation) (24.3.0)\n",
            "Requirement already satisfied: jsonschema-specifications>=2023.03.6 in /usr/local/lib/python3.10/dist-packages (from jsonschema>=2.6->nbformat->sklearn-evaluation) (2024.10.1)\n",
            "Requirement already satisfied: referencing>=0.28.4 in /usr/local/lib/python3.10/dist-packages (from jsonschema>=2.6->nbformat->sklearn-evaluation) (0.35.1)\n",
            "Requirement already satisfied: rpds-py>=0.7.1 in /usr/local/lib/python3.10/dist-packages (from jsonschema>=2.6->nbformat->sklearn-evaluation) (0.22.3)\n",
            "Requirement already satisfied: ptyprocess>=0.5 in /usr/local/lib/python3.10/dist-packages (from pexpect>4.3->ipython->sklearn-evaluation) (0.7.0)\n",
            "Requirement already satisfied: wcwidth in /usr/local/lib/python3.10/dist-packages (from prompt-toolkit!=3.0.0,!=3.0.1,<3.1.0,>=2.0.0->ipython->sklearn-evaluation) (0.2.13)\n",
            "Requirement already satisfied: six>=1.5 in /usr/local/lib/python3.10/dist-packages (from python-dateutil>=2.7->matplotlib->sklearn-evaluation) (1.17.0)\n",
            "Requirement already satisfied: requests<3.0,>=2.7 in /usr/local/lib/python3.10/dist-packages (from posthog->ploomber-core>=0.2.6->sklearn-evaluation) (2.32.3)\n",
            "Collecting monotonic>=1.5 (from posthog->ploomber-core>=0.2.6->sklearn-evaluation)\n",
            "  Downloading monotonic-1.6-py2.py3-none-any.whl.metadata (1.5 kB)\n",
            "Collecting backoff>=1.10.0 (from posthog->ploomber-core>=0.2.6->sklearn-evaluation)\n",
            "  Downloading backoff-2.2.1-py3-none-any.whl.metadata (14 kB)\n",
            "Requirement already satisfied: charset-normalizer<4,>=2 in /usr/local/lib/python3.10/dist-packages (from requests<3.0,>=2.7->posthog->ploomber-core>=0.2.6->sklearn-evaluation) (3.4.0)\n",
            "Requirement already satisfied: idna<4,>=2.5 in /usr/local/lib/python3.10/dist-packages (from requests<3.0,>=2.7->posthog->ploomber-core>=0.2.6->sklearn-evaluation) (3.10)\n",
            "Requirement already satisfied: urllib3<3,>=1.21.1 in /usr/local/lib/python3.10/dist-packages (from requests<3.0,>=2.7->posthog->ploomber-core>=0.2.6->sklearn-evaluation) (2.2.3)\n",
            "Requirement already satisfied: certifi>=2017.4.17 in /usr/local/lib/python3.10/dist-packages (from requests<3.0,>=2.7->posthog->ploomber-core>=0.2.6->sklearn-evaluation) (2024.12.14)\n",
            "Downloading sklearn_evaluation-0.12.2-py3-none-any.whl (108 kB)\n",
            "\u001b[2K   \u001b[90m━━━━━━━━━━━━━━━━━━━━━━━━━━━━━━━━━━━━━━━━\u001b[0m \u001b[32m108.7/108.7 kB\u001b[0m \u001b[31m5.3 MB/s\u001b[0m eta \u001b[36m0:00:00\u001b[0m\n",
            "\u001b[?25hDownloading ploomber_core-0.2.26-py3-none-any.whl (22 kB)\n",
            "Downloading black-24.10.0-cp310-cp310-manylinux_2_17_x86_64.manylinux2014_x86_64.manylinux_2_28_x86_64.whl (1.8 MB)\n",
            "\u001b[2K   \u001b[90m━━━━━━━━━━━━━━━━━━━━━━━━━━━━━━━━━━━━━━━━\u001b[0m \u001b[32m1.8/1.8 MB\u001b[0m \u001b[31m34.9 MB/s\u001b[0m eta \u001b[36m0:00:00\u001b[0m\n",
            "\u001b[?25hDownloading ploomber_extension-0.1.1-py3-none-any.whl (193 kB)\n",
            "\u001b[2K   \u001b[90m━━━━━━━━━━━━━━━━━━━━━━━━━━━━━━━━━━━━━━━━\u001b[0m \u001b[32m193.1/193.1 kB\u001b[0m \u001b[31m14.6 MB/s\u001b[0m eta \u001b[36m0:00:00\u001b[0m\n",
            "\u001b[?25hDownloading jedi-0.19.2-py2.py3-none-any.whl (1.6 MB)\n",
            "\u001b[2K   \u001b[90m━━━━━━━━━━━━━━━━━━━━━━━━━━━━━━━━━━━━━━━━\u001b[0m \u001b[32m1.6/1.6 MB\u001b[0m \u001b[31m54.1 MB/s\u001b[0m eta \u001b[36m0:00:00\u001b[0m\n",
            "\u001b[?25hDownloading mypy_extensions-1.0.0-py3-none-any.whl (4.7 kB)\n",
            "Downloading pathspec-0.12.1-py3-none-any.whl (31 kB)\n",
            "Downloading posthog-3.7.4-py2.py3-none-any.whl (54 kB)\n",
            "\u001b[2K   \u001b[90m━━━━━━━━━━━━━━━━━━━━━━━━━━━━━━━━━━━━━━━━\u001b[0m \u001b[32m54.8/54.8 kB\u001b[0m \u001b[31m3.5 MB/s\u001b[0m eta \u001b[36m0:00:00\u001b[0m\n",
            "\u001b[?25hDownloading backoff-2.2.1-py3-none-any.whl (15 kB)\n",
            "Downloading monotonic-1.6-py2.py3-none-any.whl (8.2 kB)\n",
            "Installing collected packages: monotonic, pathspec, mypy-extensions, jedi, backoff, posthog, black, ploomber-core, ploomber-extension, sklearn-evaluation\n",
            "Successfully installed backoff-2.2.1 black-24.10.0 jedi-0.19.2 monotonic-1.6 mypy-extensions-1.0.0 pathspec-0.12.1 ploomber-core-0.2.26 ploomber-extension-0.1.1 posthog-3.7.4 sklearn-evaluation-0.12.2\n"
          ]
        }
      ],
      "source": [
        "import seaborn as sns # 그래픽 라이브라이\n",
        "import matplotlib as mpl #그래프\n",
        "import matplotlib.pyplot as plt #그래프\n",
        "import numpy as np #수학적 기능 제공\n",
        "import random\n",
        "import pandas as pd #데이터 처리 및 가공에 사용됨\n",
        "from sklearn.preprocessing import LabelEncoder # LabelEncoding에 사용됨\n",
        "from sklearn.preprocessing import OneHotEncoder # OneHotEncoding에 사용됨\n",
        "from sklearn.preprocessing import scale, normalize # 데이터 표준,정규화에 사용됨\n",
        "from sklearn.preprocessing import MinMaxScaler\n",
        "from sklearn.preprocessing import StandardScaler\n",
        "from sklearn.preprocessing import RobustScaler # 아웃라이어에 강함\n",
        "#from sklearn.preprocessing import QuantileTransformer # 아웃라이어에 강하고, 0,1값을 가짐\n",
        "from sklearn import preprocessing\n",
        "#import sklearn.preprocessing.data as QT\n",
        "# from sklearn.preprocessing import Imputer #Missing 값 대체에 사용\n",
        "from sklearn.feature_selection import VarianceThreshold #Feature Selection Variance\n",
        "from sklearn.feature_selection import SelectKBest #Feature Selection Univarite\n",
        "from sklearn.feature_selection import chi2\n",
        "from sklearn.feature_selection import RFE #Feature Selection With RFE\n",
        "from sklearn.feature_selection import RFECV #Feature Selection With RFECV\n",
        "from sklearn.decomposition import PCA\n",
        "from sklearn.ensemble import RandomForestClassifier\n",
        "\n",
        "!pip install sklearn-evaluation\n",
        "from sklearn_evaluation import plot # Data Evaluation에 사용됨\n",
        "from sklearn.model_selection import learning_curve, validation_curve\n",
        "from sklearn.model_selection import train_test_split\n",
        "from sklearn.metrics import f1_score,confusion_matrix\n",
        "from sklearn.metrics import accuracy_score"
      ]
    },
    {
      "cell_type": "markdown",
      "source": [
        "**데이터셋 로드**\n",
        "\n",
        "데이터셋을 로드하고 copy를 사용해서 데이터복사를 한 후, 그 데이터를 사용합니다.\n",
        "\n",
        "df.info를 활용하여 데이터에 대한 정보를 얻습니다."
      ],
      "metadata": {
        "id": "KEUzeLgeMUPH"
      }
    },
    {
      "cell_type": "code",
      "source": [
        "import pandas as pd\n",
        "import numpy as np\n",
        "import seaborn as sns\n",
        "import matplotlib.pyplot as plt\n",
        "from sklearn.model_selection import train_test_split\n",
        "from sklearn.preprocessing import StandardScaler, OneHotEncoder, KBinsDiscretizer\n",
        "from sklearn.compose import ColumnTransformer\n",
        "from sklearn.pipeline import Pipeline\n",
        "from sklearn.feature_selection import SelectKBest, f_regression\n",
        "\n",
        "np.random.seed(42)  # 랜덤시드를 설정\n",
        "# CSV 파일 경로 설정\n",
        "file_path = '/content/drive/My Drive/machine_learning_dataset/googleplaystore.csv'\n",
        "\n",
        "# CSV 파일 로드\n",
        "df_original = pd.read_csv(file_path)\n",
        "\n",
        "# 데이터 복사\n",
        "df = df_original.copy()\n",
        "\n",
        "# 데이터 확인 (EDA)\n",
        "print(\"Initial data overview:\")\n",
        "print(df.info())"
      ],
      "metadata": {
        "colab": {
          "base_uri": "https://localhost:8080/"
        },
        "id": "JgvvT4MDXyMG",
        "outputId": "0d103281-ae89-4875-8625-4106a2a81a5c"
      },
      "execution_count": null,
      "outputs": [
        {
          "output_type": "stream",
          "name": "stdout",
          "text": [
            "Initial data overview:\n",
            "<class 'pandas.core.frame.DataFrame'>\n",
            "RangeIndex: 10841 entries, 0 to 10840\n",
            "Data columns (total 13 columns):\n",
            " #   Column          Non-Null Count  Dtype  \n",
            "---  ------          --------------  -----  \n",
            " 0   App             10841 non-null  object \n",
            " 1   Category        10841 non-null  object \n",
            " 2   Rating          9367 non-null   float64\n",
            " 3   Reviews         10841 non-null  object \n",
            " 4   Size            10841 non-null  object \n",
            " 5   Installs        10841 non-null  object \n",
            " 6   Type            10840 non-null  object \n",
            " 7   Price           10841 non-null  object \n",
            " 8   Content Rating  10840 non-null  object \n",
            " 9   Genres          10841 non-null  object \n",
            " 10  Last Updated    10841 non-null  object \n",
            " 11  Current Ver     10833 non-null  object \n",
            " 12  Android Ver     10838 non-null  object \n",
            "dtypes: float64(1), object(12)\n",
            "memory usage: 1.1+ MB\n",
            "None\n"
          ]
        }
      ]
    },
    {
      "cell_type": "markdown",
      "source": [
        "df.shape를 사용하여 instance의 수와 feature의 수를 확인합니다.\n",
        "그 결과, 10841개와 13개로, 데이터셋의 조건을 만족하는 것을 확인할 수 있습니다.\n",
        "\n",
        "df.head를 사용하여 데이터가 어떤 식으로 구성되어있는지 확인합니다.\n",
        "\n",
        "Size의 경우 M, K 같은 것이 사용되어서 이것들을 백만을 곱해주거나 천을 곱해주어 숫자 float 형태로 변형하는 것이 필요한 것을 이 과정에서 인지하였습니다."
      ],
      "metadata": {
        "id": "wJTXDSzlYaeY"
      }
    },
    {
      "cell_type": "code",
      "source": [
        "print(\"Number of instances:\", df.shape[0])\n",
        "print(\"Number of features:\", df.shape[1])\n",
        "df.head(5)"
      ],
      "metadata": {
        "colab": {
          "base_uri": "https://localhost:8080/",
          "height": 468
        },
        "id": "g4nxc1-oYXvd",
        "outputId": "0d662cb0-e860-405a-e2ed-d21891f45e81"
      },
      "execution_count": null,
      "outputs": [
        {
          "output_type": "stream",
          "name": "stdout",
          "text": [
            "Number of instances: 10841\n",
            "Number of features: 13\n"
          ]
        },
        {
          "output_type": "execute_result",
          "data": {
            "text/plain": [
              "                                                 App        Category  Rating  \\\n",
              "0     Photo Editor & Candy Camera & Grid & ScrapBook  ART_AND_DESIGN     4.1   \n",
              "1                                Coloring book moana  ART_AND_DESIGN     3.9   \n",
              "2  U Launcher Lite – FREE Live Cool Themes, Hide ...  ART_AND_DESIGN     4.7   \n",
              "3                              Sketch - Draw & Paint  ART_AND_DESIGN     4.5   \n",
              "4              Pixel Draw - Number Art Coloring Book  ART_AND_DESIGN     4.3   \n",
              "\n",
              "  Reviews  Size     Installs  Type Price Content Rating  \\\n",
              "0     159   19M      10,000+  Free     0       Everyone   \n",
              "1     967   14M     500,000+  Free     0       Everyone   \n",
              "2   87510  8.7M   5,000,000+  Free     0       Everyone   \n",
              "3  215644   25M  50,000,000+  Free     0           Teen   \n",
              "4     967  2.8M     100,000+  Free     0       Everyone   \n",
              "\n",
              "                      Genres      Last Updated         Current Ver  \\\n",
              "0               Art & Design   January 7, 2018               1.0.0   \n",
              "1  Art & Design;Pretend Play  January 15, 2018               2.0.0   \n",
              "2               Art & Design    August 1, 2018               1.2.4   \n",
              "3               Art & Design      June 8, 2018  Varies with device   \n",
              "4    Art & Design;Creativity     June 20, 2018                 1.1   \n",
              "\n",
              "    Android Ver  \n",
              "0  4.0.3 and up  \n",
              "1  4.0.3 and up  \n",
              "2  4.0.3 and up  \n",
              "3    4.2 and up  \n",
              "4    4.4 and up  "
            ],
            "text/html": [
              "\n",
              "  <div id=\"df-21ba70fc-3e64-4dd9-a364-e20c0da3ab6e\" class=\"colab-df-container\">\n",
              "    <div>\n",
              "<style scoped>\n",
              "    .dataframe tbody tr th:only-of-type {\n",
              "        vertical-align: middle;\n",
              "    }\n",
              "\n",
              "    .dataframe tbody tr th {\n",
              "        vertical-align: top;\n",
              "    }\n",
              "\n",
              "    .dataframe thead th {\n",
              "        text-align: right;\n",
              "    }\n",
              "</style>\n",
              "<table border=\"1\" class=\"dataframe\">\n",
              "  <thead>\n",
              "    <tr style=\"text-align: right;\">\n",
              "      <th></th>\n",
              "      <th>App</th>\n",
              "      <th>Category</th>\n",
              "      <th>Rating</th>\n",
              "      <th>Reviews</th>\n",
              "      <th>Size</th>\n",
              "      <th>Installs</th>\n",
              "      <th>Type</th>\n",
              "      <th>Price</th>\n",
              "      <th>Content Rating</th>\n",
              "      <th>Genres</th>\n",
              "      <th>Last Updated</th>\n",
              "      <th>Current Ver</th>\n",
              "      <th>Android Ver</th>\n",
              "    </tr>\n",
              "  </thead>\n",
              "  <tbody>\n",
              "    <tr>\n",
              "      <th>0</th>\n",
              "      <td>Photo Editor &amp; Candy Camera &amp; Grid &amp; ScrapBook</td>\n",
              "      <td>ART_AND_DESIGN</td>\n",
              "      <td>4.1</td>\n",
              "      <td>159</td>\n",
              "      <td>19M</td>\n",
              "      <td>10,000+</td>\n",
              "      <td>Free</td>\n",
              "      <td>0</td>\n",
              "      <td>Everyone</td>\n",
              "      <td>Art &amp; Design</td>\n",
              "      <td>January 7, 2018</td>\n",
              "      <td>1.0.0</td>\n",
              "      <td>4.0.3 and up</td>\n",
              "    </tr>\n",
              "    <tr>\n",
              "      <th>1</th>\n",
              "      <td>Coloring book moana</td>\n",
              "      <td>ART_AND_DESIGN</td>\n",
              "      <td>3.9</td>\n",
              "      <td>967</td>\n",
              "      <td>14M</td>\n",
              "      <td>500,000+</td>\n",
              "      <td>Free</td>\n",
              "      <td>0</td>\n",
              "      <td>Everyone</td>\n",
              "      <td>Art &amp; Design;Pretend Play</td>\n",
              "      <td>January 15, 2018</td>\n",
              "      <td>2.0.0</td>\n",
              "      <td>4.0.3 and up</td>\n",
              "    </tr>\n",
              "    <tr>\n",
              "      <th>2</th>\n",
              "      <td>U Launcher Lite – FREE Live Cool Themes, Hide ...</td>\n",
              "      <td>ART_AND_DESIGN</td>\n",
              "      <td>4.7</td>\n",
              "      <td>87510</td>\n",
              "      <td>8.7M</td>\n",
              "      <td>5,000,000+</td>\n",
              "      <td>Free</td>\n",
              "      <td>0</td>\n",
              "      <td>Everyone</td>\n",
              "      <td>Art &amp; Design</td>\n",
              "      <td>August 1, 2018</td>\n",
              "      <td>1.2.4</td>\n",
              "      <td>4.0.3 and up</td>\n",
              "    </tr>\n",
              "    <tr>\n",
              "      <th>3</th>\n",
              "      <td>Sketch - Draw &amp; Paint</td>\n",
              "      <td>ART_AND_DESIGN</td>\n",
              "      <td>4.5</td>\n",
              "      <td>215644</td>\n",
              "      <td>25M</td>\n",
              "      <td>50,000,000+</td>\n",
              "      <td>Free</td>\n",
              "      <td>0</td>\n",
              "      <td>Teen</td>\n",
              "      <td>Art &amp; Design</td>\n",
              "      <td>June 8, 2018</td>\n",
              "      <td>Varies with device</td>\n",
              "      <td>4.2 and up</td>\n",
              "    </tr>\n",
              "    <tr>\n",
              "      <th>4</th>\n",
              "      <td>Pixel Draw - Number Art Coloring Book</td>\n",
              "      <td>ART_AND_DESIGN</td>\n",
              "      <td>4.3</td>\n",
              "      <td>967</td>\n",
              "      <td>2.8M</td>\n",
              "      <td>100,000+</td>\n",
              "      <td>Free</td>\n",
              "      <td>0</td>\n",
              "      <td>Everyone</td>\n",
              "      <td>Art &amp; Design;Creativity</td>\n",
              "      <td>June 20, 2018</td>\n",
              "      <td>1.1</td>\n",
              "      <td>4.4 and up</td>\n",
              "    </tr>\n",
              "  </tbody>\n",
              "</table>\n",
              "</div>\n",
              "    <div class=\"colab-df-buttons\">\n",
              "\n",
              "  <div class=\"colab-df-container\">\n",
              "    <button class=\"colab-df-convert\" onclick=\"convertToInteractive('df-21ba70fc-3e64-4dd9-a364-e20c0da3ab6e')\"\n",
              "            title=\"Convert this dataframe to an interactive table.\"\n",
              "            style=\"display:none;\">\n",
              "\n",
              "  <svg xmlns=\"http://www.w3.org/2000/svg\" height=\"24px\" viewBox=\"0 -960 960 960\">\n",
              "    <path d=\"M120-120v-720h720v720H120Zm60-500h600v-160H180v160Zm220 220h160v-160H400v160Zm0 220h160v-160H400v160ZM180-400h160v-160H180v160Zm440 0h160v-160H620v160ZM180-180h160v-160H180v160Zm440 0h160v-160H620v160Z\"/>\n",
              "  </svg>\n",
              "    </button>\n",
              "\n",
              "  <style>\n",
              "    .colab-df-container {\n",
              "      display:flex;\n",
              "      gap: 12px;\n",
              "    }\n",
              "\n",
              "    .colab-df-convert {\n",
              "      background-color: #E8F0FE;\n",
              "      border: none;\n",
              "      border-radius: 50%;\n",
              "      cursor: pointer;\n",
              "      display: none;\n",
              "      fill: #1967D2;\n",
              "      height: 32px;\n",
              "      padding: 0 0 0 0;\n",
              "      width: 32px;\n",
              "    }\n",
              "\n",
              "    .colab-df-convert:hover {\n",
              "      background-color: #E2EBFA;\n",
              "      box-shadow: 0px 1px 2px rgba(60, 64, 67, 0.3), 0px 1px 3px 1px rgba(60, 64, 67, 0.15);\n",
              "      fill: #174EA6;\n",
              "    }\n",
              "\n",
              "    .colab-df-buttons div {\n",
              "      margin-bottom: 4px;\n",
              "    }\n",
              "\n",
              "    [theme=dark] .colab-df-convert {\n",
              "      background-color: #3B4455;\n",
              "      fill: #D2E3FC;\n",
              "    }\n",
              "\n",
              "    [theme=dark] .colab-df-convert:hover {\n",
              "      background-color: #434B5C;\n",
              "      box-shadow: 0px 1px 3px 1px rgba(0, 0, 0, 0.15);\n",
              "      filter: drop-shadow(0px 1px 2px rgba(0, 0, 0, 0.3));\n",
              "      fill: #FFFFFF;\n",
              "    }\n",
              "  </style>\n",
              "\n",
              "    <script>\n",
              "      const buttonEl =\n",
              "        document.querySelector('#df-21ba70fc-3e64-4dd9-a364-e20c0da3ab6e button.colab-df-convert');\n",
              "      buttonEl.style.display =\n",
              "        google.colab.kernel.accessAllowed ? 'block' : 'none';\n",
              "\n",
              "      async function convertToInteractive(key) {\n",
              "        const element = document.querySelector('#df-21ba70fc-3e64-4dd9-a364-e20c0da3ab6e');\n",
              "        const dataTable =\n",
              "          await google.colab.kernel.invokeFunction('convertToInteractive',\n",
              "                                                    [key], {});\n",
              "        if (!dataTable) return;\n",
              "\n",
              "        const docLinkHtml = 'Like what you see? Visit the ' +\n",
              "          '<a target=\"_blank\" href=https://colab.research.google.com/notebooks/data_table.ipynb>data table notebook</a>'\n",
              "          + ' to learn more about interactive tables.';\n",
              "        element.innerHTML = '';\n",
              "        dataTable['output_type'] = 'display_data';\n",
              "        await google.colab.output.renderOutput(dataTable, element);\n",
              "        const docLink = document.createElement('div');\n",
              "        docLink.innerHTML = docLinkHtml;\n",
              "        element.appendChild(docLink);\n",
              "      }\n",
              "    </script>\n",
              "  </div>\n",
              "\n",
              "\n",
              "<div id=\"df-26131724-5f05-4510-a842-8b0a388084fa\">\n",
              "  <button class=\"colab-df-quickchart\" onclick=\"quickchart('df-26131724-5f05-4510-a842-8b0a388084fa')\"\n",
              "            title=\"Suggest charts\"\n",
              "            style=\"display:none;\">\n",
              "\n",
              "<svg xmlns=\"http://www.w3.org/2000/svg\" height=\"24px\"viewBox=\"0 0 24 24\"\n",
              "     width=\"24px\">\n",
              "    <g>\n",
              "        <path d=\"M19 3H5c-1.1 0-2 .9-2 2v14c0 1.1.9 2 2 2h14c1.1 0 2-.9 2-2V5c0-1.1-.9-2-2-2zM9 17H7v-7h2v7zm4 0h-2V7h2v10zm4 0h-2v-4h2v4z\"/>\n",
              "    </g>\n",
              "</svg>\n",
              "  </button>\n",
              "\n",
              "<style>\n",
              "  .colab-df-quickchart {\n",
              "      --bg-color: #E8F0FE;\n",
              "      --fill-color: #1967D2;\n",
              "      --hover-bg-color: #E2EBFA;\n",
              "      --hover-fill-color: #174EA6;\n",
              "      --disabled-fill-color: #AAA;\n",
              "      --disabled-bg-color: #DDD;\n",
              "  }\n",
              "\n",
              "  [theme=dark] .colab-df-quickchart {\n",
              "      --bg-color: #3B4455;\n",
              "      --fill-color: #D2E3FC;\n",
              "      --hover-bg-color: #434B5C;\n",
              "      --hover-fill-color: #FFFFFF;\n",
              "      --disabled-bg-color: #3B4455;\n",
              "      --disabled-fill-color: #666;\n",
              "  }\n",
              "\n",
              "  .colab-df-quickchart {\n",
              "    background-color: var(--bg-color);\n",
              "    border: none;\n",
              "    border-radius: 50%;\n",
              "    cursor: pointer;\n",
              "    display: none;\n",
              "    fill: var(--fill-color);\n",
              "    height: 32px;\n",
              "    padding: 0;\n",
              "    width: 32px;\n",
              "  }\n",
              "\n",
              "  .colab-df-quickchart:hover {\n",
              "    background-color: var(--hover-bg-color);\n",
              "    box-shadow: 0 1px 2px rgba(60, 64, 67, 0.3), 0 1px 3px 1px rgba(60, 64, 67, 0.15);\n",
              "    fill: var(--button-hover-fill-color);\n",
              "  }\n",
              "\n",
              "  .colab-df-quickchart-complete:disabled,\n",
              "  .colab-df-quickchart-complete:disabled:hover {\n",
              "    background-color: var(--disabled-bg-color);\n",
              "    fill: var(--disabled-fill-color);\n",
              "    box-shadow: none;\n",
              "  }\n",
              "\n",
              "  .colab-df-spinner {\n",
              "    border: 2px solid var(--fill-color);\n",
              "    border-color: transparent;\n",
              "    border-bottom-color: var(--fill-color);\n",
              "    animation:\n",
              "      spin 1s steps(1) infinite;\n",
              "  }\n",
              "\n",
              "  @keyframes spin {\n",
              "    0% {\n",
              "      border-color: transparent;\n",
              "      border-bottom-color: var(--fill-color);\n",
              "      border-left-color: var(--fill-color);\n",
              "    }\n",
              "    20% {\n",
              "      border-color: transparent;\n",
              "      border-left-color: var(--fill-color);\n",
              "      border-top-color: var(--fill-color);\n",
              "    }\n",
              "    30% {\n",
              "      border-color: transparent;\n",
              "      border-left-color: var(--fill-color);\n",
              "      border-top-color: var(--fill-color);\n",
              "      border-right-color: var(--fill-color);\n",
              "    }\n",
              "    40% {\n",
              "      border-color: transparent;\n",
              "      border-right-color: var(--fill-color);\n",
              "      border-top-color: var(--fill-color);\n",
              "    }\n",
              "    60% {\n",
              "      border-color: transparent;\n",
              "      border-right-color: var(--fill-color);\n",
              "    }\n",
              "    80% {\n",
              "      border-color: transparent;\n",
              "      border-right-color: var(--fill-color);\n",
              "      border-bottom-color: var(--fill-color);\n",
              "    }\n",
              "    90% {\n",
              "      border-color: transparent;\n",
              "      border-bottom-color: var(--fill-color);\n",
              "    }\n",
              "  }\n",
              "</style>\n",
              "\n",
              "  <script>\n",
              "    async function quickchart(key) {\n",
              "      const quickchartButtonEl =\n",
              "        document.querySelector('#' + key + ' button');\n",
              "      quickchartButtonEl.disabled = true;  // To prevent multiple clicks.\n",
              "      quickchartButtonEl.classList.add('colab-df-spinner');\n",
              "      try {\n",
              "        const charts = await google.colab.kernel.invokeFunction(\n",
              "            'suggestCharts', [key], {});\n",
              "      } catch (error) {\n",
              "        console.error('Error during call to suggestCharts:', error);\n",
              "      }\n",
              "      quickchartButtonEl.classList.remove('colab-df-spinner');\n",
              "      quickchartButtonEl.classList.add('colab-df-quickchart-complete');\n",
              "    }\n",
              "    (() => {\n",
              "      let quickchartButtonEl =\n",
              "        document.querySelector('#df-26131724-5f05-4510-a842-8b0a388084fa button');\n",
              "      quickchartButtonEl.style.display =\n",
              "        google.colab.kernel.accessAllowed ? 'block' : 'none';\n",
              "    })();\n",
              "  </script>\n",
              "</div>\n",
              "\n",
              "    </div>\n",
              "  </div>\n"
            ],
            "application/vnd.google.colaboratory.intrinsic+json": {
              "type": "dataframe",
              "variable_name": "df",
              "summary": "{\n  \"name\": \"df\",\n  \"rows\": 10841,\n  \"fields\": [\n    {\n      \"column\": \"App\",\n      \"properties\": {\n        \"dtype\": \"string\",\n        \"num_unique_values\": 9660,\n        \"samples\": [\n          \"Run R Script - Online Statistical Data Analysis\",\n          \"EURES - Your Job in Europe\",\n          \"Dog Licks Screen Wallpaper\"\n        ],\n        \"semantic_type\": \"\",\n        \"description\": \"\"\n      }\n    },\n    {\n      \"column\": \"Category\",\n      \"properties\": {\n        \"dtype\": \"category\",\n        \"num_unique_values\": 34,\n        \"samples\": [\n          \"LIBRARIES_AND_DEMO\",\n          \"MEDICAL\",\n          \"PRODUCTIVITY\"\n        ],\n        \"semantic_type\": \"\",\n        \"description\": \"\"\n      }\n    },\n    {\n      \"column\": \"Rating\",\n      \"properties\": {\n        \"dtype\": \"number\",\n        \"std\": 0.5374313031477594,\n        \"min\": 1.0,\n        \"max\": 19.0,\n        \"num_unique_values\": 40,\n        \"samples\": [\n          5.0,\n          3.4,\n          3.3\n        ],\n        \"semantic_type\": \"\",\n        \"description\": \"\"\n      }\n    },\n    {\n      \"column\": \"Reviews\",\n      \"properties\": {\n        \"dtype\": \"string\",\n        \"num_unique_values\": 6002,\n        \"samples\": [\n          \"66661\",\n          \"7479\",\n          \"8978\"\n        ],\n        \"semantic_type\": \"\",\n        \"description\": \"\"\n      }\n    },\n    {\n      \"column\": \"Size\",\n      \"properties\": {\n        \"dtype\": \"category\",\n        \"num_unique_values\": 462,\n        \"samples\": [\n          \"746k\",\n          \"9.4M\",\n          \"35M\"\n        ],\n        \"semantic_type\": \"\",\n        \"description\": \"\"\n      }\n    },\n    {\n      \"column\": \"Installs\",\n      \"properties\": {\n        \"dtype\": \"category\",\n        \"num_unique_values\": 22,\n        \"samples\": [\n          \"10,000+\",\n          \"50+\",\n          \"5,000+\"\n        ],\n        \"semantic_type\": \"\",\n        \"description\": \"\"\n      }\n    },\n    {\n      \"column\": \"Type\",\n      \"properties\": {\n        \"dtype\": \"category\",\n        \"num_unique_values\": 3,\n        \"samples\": [\n          \"Free\",\n          \"Paid\",\n          \"0\"\n        ],\n        \"semantic_type\": \"\",\n        \"description\": \"\"\n      }\n    },\n    {\n      \"column\": \"Price\",\n      \"properties\": {\n        \"dtype\": \"category\",\n        \"num_unique_values\": 93,\n        \"samples\": [\n          \"$17.99\",\n          \"$29.99\",\n          \"$37.99\"\n        ],\n        \"semantic_type\": \"\",\n        \"description\": \"\"\n      }\n    },\n    {\n      \"column\": \"Content Rating\",\n      \"properties\": {\n        \"dtype\": \"category\",\n        \"num_unique_values\": 6,\n        \"samples\": [\n          \"Everyone\",\n          \"Teen\",\n          \"Unrated\"\n        ],\n        \"semantic_type\": \"\",\n        \"description\": \"\"\n      }\n    },\n    {\n      \"column\": \"Genres\",\n      \"properties\": {\n        \"dtype\": \"category\",\n        \"num_unique_values\": 120,\n        \"samples\": [\n          \"Casual;Action & Adventure\",\n          \"Board\",\n          \"Auto & Vehicles\"\n        ],\n        \"semantic_type\": \"\",\n        \"description\": \"\"\n      }\n    },\n    {\n      \"column\": \"Last Updated\",\n      \"properties\": {\n        \"dtype\": \"category\",\n        \"num_unique_values\": 1378,\n        \"samples\": [\n          \"March 15, 2016\",\n          \"May 14, 2013\",\n          \"October 21, 2015\"\n        ],\n        \"semantic_type\": \"\",\n        \"description\": \"\"\n      }\n    },\n    {\n      \"column\": \"Current Ver\",\n      \"properties\": {\n        \"dtype\": \"category\",\n        \"num_unique_values\": 2832,\n        \"samples\": [\n          \"7.0.4.17908\",\n          \"1.2.5.4-11\",\n          \"2.5.7.1\"\n        ],\n        \"semantic_type\": \"\",\n        \"description\": \"\"\n      }\n    },\n    {\n      \"column\": \"Android Ver\",\n      \"properties\": {\n        \"dtype\": \"category\",\n        \"num_unique_values\": 33,\n        \"samples\": [\n          \"2.2 - 7.1.1\",\n          \"7.0 and up\",\n          \"3.1 and up\"\n        ],\n        \"semantic_type\": \"\",\n        \"description\": \"\"\n      }\n    }\n  ]\n}"
            }
          },
          "metadata": {},
          "execution_count": 5
        }
      ]
    },
    {
      "cell_type": "markdown",
      "source": [
        "각 column 별 결측치의 개수를 확인해보았습니다.\n",
        "\n",
        "Rating을 제외한 나머지는 결측치가 거의 없는 것을 확인할 수 있었습니다."
      ],
      "metadata": {
        "id": "gLUkYlUOagmv"
      }
    },
    {
      "cell_type": "code",
      "source": [
        "# 각 열별 결측치 개수 확인\n",
        "missing_values = df.isnull().sum()\n",
        "print(\"Missing values per column:\\n\", missing_values)"
      ],
      "metadata": {
        "colab": {
          "base_uri": "https://localhost:8080/"
        },
        "id": "ecHdlaIBZ9N5",
        "outputId": "0f51162a-6077-4417-ab80-4a571b4fb29e"
      },
      "execution_count": null,
      "outputs": [
        {
          "output_type": "stream",
          "name": "stdout",
          "text": [
            "Missing values per column:\n",
            " App                  0\n",
            "Category             0\n",
            "Rating            1474\n",
            "Reviews              0\n",
            "Size                 0\n",
            "Installs             0\n",
            "Type                 1\n",
            "Price                0\n",
            "Content Rating       1\n",
            "Genres               0\n",
            "Last Updated         0\n",
            "Current Ver          8\n",
            "Android Ver          3\n",
            "dtype: int64\n"
          ]
        }
      ]
    },
    {
      "cell_type": "markdown",
      "source": [
        "Rating을 찾는 것이 목표이기 때문에 Rating이 없는 결측치들은 우선 제거하였습니다.\n",
        "\n",
        "제 프로젝트 흐름상 전처리를 먼저 진행하고\n",
        "3번 파트인 '선택한 데이터셋의 각 feature 의 설명 및 유형, 그리고 instance 개수는 무엇인가?' 파트는 조금 뒤에 진행하는 방향으로 하였습니다. size와 review의 value들이 그냥 숫자로 이루어진 경우와 뒤에 M, K가 붙은 경우들이 섞여 있어서 이를 먼저 처리하고 3번 파트를 진행해야 했습니다. 그 외에도 '+', ',' 와 같은 기호들이 있어 전처리가 필요한 부분이 있음을 확인하여 이를 이후에 함수를 구현하여 해결하는 것으로 계획했습니다."
      ],
      "metadata": {
        "id": "oMqwaSF-ZDOK"
      }
    },
    {
      "cell_type": "code",
      "source": [
        "# train-test split 수행\n",
        "# 결측치 제거를 위한 Rating 기준 필터링 먼저 수행\n",
        "df = df.dropna(subset=['Rating'])  # Rating 기준 결측치 제거"
      ],
      "metadata": {
        "id": "XmvUEYrzZB2E"
      },
      "execution_count": null,
      "outputs": []
    },
    {
      "cell_type": "markdown",
      "source": [
        "boxplot, histplot을 활용하여 이번 프로젝트에서 목표로 하고 있는 Rating이 어떤 식으로 분포되어있는지 데이터 분포를 시각화하여 확인하였습니다."
      ],
      "metadata": {
        "id": "w7O3HwnN4w_Z"
      }
    },
    {
      "cell_type": "code",
      "source": [
        "# Rating에 대한 분포 확인\n",
        "sns.boxplot(x=df['Rating'])\n",
        "plt.title(\"Rating Distribution (Original Data)\")\n",
        "plt.show()\n",
        "\n",
        "sns.histplot(df['Rating'], bins=20, kde=True)\n",
        "plt.title(\"Rating Histogram (Original Data)\")\n",
        "plt.show()"
      ],
      "metadata": {
        "colab": {
          "base_uri": "https://localhost:8080/",
          "height": 927
        },
        "id": "aRL80QvR4tk-",
        "outputId": "4b6ecd11-cc6a-4175-e334-f6ebf1dc40a3"
      },
      "execution_count": null,
      "outputs": [
        {
          "output_type": "display_data",
          "data": {
            "text/plain": [
              "<Figure size 640x480 with 1 Axes>"
            ],
            "image/png": "[encoded data removed]"
          },
          "metadata": {}
        },
        {
          "output_type": "display_data",
          "data": {
            "text/plain": [
              "<Figure size 640x480 with 1 Axes>"
            ],
            "image/png": "[encoded data removed]"
          },
          "metadata": {}
        }
      ]
    },
    {
      "cell_type": "markdown",
      "source": [
        "특징 별 필요한 전처리 작업을 결정하였고 이를 함수를 구현함으로 진행하였습니다.\n",
        "\n",
        "Size열에 있는 문자열 m, k 같은 것들을 분리하고 이를 해결하는 함수를 구현하고, 이를 적용시켰습니다.\n",
        "이후 size 외에도 다른 부분들도 모두 함수를 만들고 이상치를 수정하고, 제거하는 과정을 진행하였습니다."
      ],
      "metadata": {
        "id": "40rgpZGIcBMv"
      }
    },
    {
      "cell_type": "code",
      "source": [
        "# 'Size' 열의 문자열 처리 (숫자 변환)\n",
        "def size_to_numeric(size):\n",
        "    if isinstance(size, str):\n",
        "        size = size.strip().lower()\n",
        "        if 'm' in size:\n",
        "            return float(size.replace('m', '')) * 1_000_000\n",
        "        elif 'k' in size:\n",
        "            return float(size.replace('k', '')) * 1_000\n",
        "        elif size == 'varies with device':\n",
        "            return np.nan\n",
        "    return np.nan\n",
        "\n",
        "df['Size'] = df['Size'].apply(size_to_numeric)\n",
        "# 결측치 처리\n",
        "df['Size'] = df['Size'].fillna(df['Size'].median())  # 중앙값으로 채우기"
      ],
      "metadata": {
        "id": "_b4oxhpLb6t7"
      },
      "execution_count": null,
      "outputs": []
    },
    {
      "cell_type": "markdown",
      "source": [
        "Installs열에도 size열을 처리한 것처럼 문자열을 처리하는 함수를 구현하고 이를 적용시켰습니다."
      ],
      "metadata": {
        "id": "jX_9opKbcOAn"
      }
    },
    {
      "cell_type": "code",
      "source": [
        "# 'Installs' 열의 문자열 처리 (숫자 변환)\n",
        "def installs_to_numeric(installs):\n",
        "    if isinstance(installs, str):\n",
        "        installs = installs.replace('+', '').replace(',', '').strip()\n",
        "        if installs.isdigit():\n",
        "            return float(installs)\n",
        "    return np.nan\n",
        "\n",
        "df['Installs'] = df['Installs'].apply(installs_to_numeric)\n",
        "df['Installs'] = df['Installs'].fillna(df['Installs'].median())"
      ],
      "metadata": {
        "id": "v7Ii-bwQ2iG1"
      },
      "execution_count": null,
      "outputs": []
    },
    {
      "cell_type": "markdown",
      "source": [
        "Price 열의 문자열 또한 처리가 필요하여 이를 진행하였습니다."
      ],
      "metadata": {
        "id": "l4gVaqDCcZm_"
      }
    },
    {
      "cell_type": "code",
      "source": [
        "# 'Price' 열의 문자열 처리 (숫자 변환)\n",
        "def price_to_numeric(price):\n",
        "    if isinstance(price, str):\n",
        "        price = price.replace('$', '').strip()\n",
        "        if price.replace('.', '').isdigit():\n",
        "            return float(price)\n",
        "    return 0.0\n",
        "\n",
        "df['Price'] = df['Price'].apply(price_to_numeric)"
      ],
      "metadata": {
        "id": "nd1XwyCx2obb"
      },
      "execution_count": null,
      "outputs": []
    },
    {
      "cell_type": "markdown",
      "source": [
        "리뷰 부분에서 계속 오류가 나서 확인해봤는데 한 앱이 백만개 이상의 리뷰가 있어서 이게 3백만으로 표현이 안되고 3.0M으로 표기되어 변환이 원활하게 안 일어나는 case가 있어서 이를 해결하기 위해 이와 같은 함수를 작성하였습니다."
      ],
      "metadata": {
        "id": "QKog3cQdck-i"
      }
    },
    {
      "cell_type": "code",
      "source": [
        "# 'Reviews' 열의 문자열 처리 (숫자 변환)\n",
        "def reviews_to_numeric(reviews):\n",
        "    if isinstance(reviews, str):\n",
        "        reviews = reviews.strip().lower()\n",
        "        if 'm' in reviews:\n",
        "            return float(reviews.replace('m', '')) * 1_000_000\n",
        "    return np.nan\n",
        "\n",
        "df['Reviews'] = df['Reviews'].apply(reviews_to_numeric)\n",
        "# 결측치 처리\n",
        "df['Reviews'] = df['Reviews'].fillna(df['Reviews'].median())"
      ],
      "metadata": {
        "id": "o8NY45ofcjDY"
      },
      "execution_count": null,
      "outputs": []
    },
    {
      "cell_type": "markdown",
      "source": [
        "이상치는 데이터의 전반적인 패턴이나 경향에서 크게 벗어나는 관측치를 의미합니다.\n",
        "\n",
        "'Size', 'Installs', 'Reviews' 열에서 이상치를 탐지하고 제거하는 과정을 이와 같이 진행하였습니다.\n",
        "\n",
        "(4.1. 이상치 수정하거나 제거)"
      ],
      "metadata": {
        "id": "-S-0onzzdlq2"
      }
    },
    {
      "cell_type": "code",
      "source": [
        "# 이상치 탐지 및 제거 (Size, Installs, Reviews)\n",
        "for col in ['Size', 'Installs', 'Reviews']:\n",
        "    q1 = df[col].quantile(0.25)\n",
        "    q3 = df[col].quantile(0.75)\n",
        "    iqr = q3 - q1\n",
        "    lower_bound = q1 - 1.5 * iqr\n",
        "    upper_bound = q3 + 1.5 * iqr\n",
        "    df = df[(df[col] >= lower_bound) & (df[col] <= upper_bound)]"
      ],
      "metadata": {
        "id": "7ZCpiC2D20tJ"
      },
      "execution_count": null,
      "outputs": []
    },
    {
      "cell_type": "markdown",
      "source": [
        "Reviews/Installs을 하여 설치된 것에 비해 얼마나 리뷰가 달렸는지를 보여주는 새로운 feature를 만들었습니다.\n",
        "\n",
        "(4.6. 특징들을 조합하여 새로운 특징 생성)"
      ],
      "metadata": {
        "id": "LEly3GFqeSve"
      }
    },
    {
      "cell_type": "code",
      "source": [
        "# 새로운 특징 생성\n",
        "df['Reviews_to_Installs'] = df['Reviews'] / (df['Installs'] + 1)"
      ],
      "metadata": {
        "id": "G0V3U0kVA7Gz"
      },
      "execution_count": null,
      "outputs": []
    },
    {
      "cell_type": "markdown",
      "source": [
        "'Rating','Size','Installs','Price'를 사용하여 이러한 수치형 특성 간의 상관관계를 분석하였습니다."
      ],
      "metadata": {
        "id": "n31391tqftWt"
      }
    },
    {
      "cell_type": "code",
      "source": [
        "numeric_cols = ['Rating','Size','Installs','Price']\n",
        "if not df[numeric_cols].select_dtypes(include=np.number).empty:\n",
        "    corr_matrix = df[numeric_cols].corr()\n",
        "    sns.heatmap(corr_matrix, annot=True, cmap=\"coolwarm\")\n",
        "    plt.title(\"Feature Correlation (Original Data)\")\n",
        "    plt.show()\n",
        "else:\n",
        "    print(\"No numerical features available for correlation analysis.\")"
      ],
      "metadata": {
        "colab": {
          "base_uri": "https://localhost:8080/",
          "height": 452
        },
        "id": "XY7bbvKH5WC4",
        "outputId": "a5fbd02b-8d0b-401f-ebd1-020cb209b7ae"
      },
      "execution_count": null,
      "outputs": [
        {
          "output_type": "display_data",
          "data": {
            "text/plain": [
              "<Figure size 640x480 with 2 Axes>"
            ],
            "image/png": "[encoded data removed]"
          },
          "metadata": {}
        }
      ]
    },
    {
      "cell_type": "markdown",
      "source": [
        "선택한 데이터셋의 각 feature를 정의하였습니다.\n",
        "\n",
        "categorical인지, numerical인지 구분하고, 그 안에서도 nominal인지, continuous인지, discrete인지 등을 구본하였습니다."
      ],
      "metadata": {
        "id": "dYOQncYQ6lwZ"
      }
    },
    {
      "cell_type": "code",
      "source": [
        "# 3.1. Feature 설명 및 유형 정의\n",
        "features = {\n",
        "    \"App\": \"categorical (nominal)\",\n",
        "    \"Category\": \"categorical (nominal)\",\n",
        "    \"Rating\": \"numerical (continuous)\",\n",
        "    \"Reviews\": \"numerical (discrete)\",\n",
        "    \"Size\": \"numerical (continuous)\",\n",
        "    \"Installs\": \"numerical (continuous)\",\n",
        "    \"Type\": \"categorical (nominal)\",\n",
        "    \"Price\": \"numerical (continuous)\",\n",
        "    \"Content Rating\": \"categorical (nominal)\",\n",
        "    \"Genres\": \"categorical (nominal)\",\n",
        "    \"Last Updated\": \"categorical (nominal)\",\n",
        "    \"Current Ver\": \"categorical (nominal)\",\n",
        "    \"Android Ver\": \"categorical (nominal)\",\n",
        "    \"Reviews_to_Installs\": \"numerical (continuous)\"\n",
        "}\n",
        "\n",
        "for feature, ftype in features.items():\n",
        "    print(f\"Feature: {feature}, Type: {ftype}\")"
      ],
      "metadata": {
        "colab": {
          "base_uri": "https://localhost:8080/"
        },
        "id": "yPvsX-V26eD5",
        "outputId": "32147cca-d89f-470b-c530-842cdf984e22"
      },
      "execution_count": null,
      "outputs": [
        {
          "output_type": "stream",
          "name": "stdout",
          "text": [
            "Feature: App, Type: categorical (nominal)\n",
            "Feature: Category, Type: categorical (nominal)\n",
            "Feature: Rating, Type: numerical (continuous)\n",
            "Feature: Reviews, Type: numerical (discrete)\n",
            "Feature: Size, Type: numerical (continuous)\n",
            "Feature: Installs, Type: numerical (continuous)\n",
            "Feature: Type, Type: categorical (nominal)\n",
            "Feature: Price, Type: numerical (continuous)\n",
            "Feature: Content Rating, Type: categorical (nominal)\n",
            "Feature: Genres, Type: categorical (nominal)\n",
            "Feature: Last Updated, Type: categorical (nominal)\n",
            "Feature: Current Ver, Type: categorical (nominal)\n",
            "Feature: Android Ver, Type: categorical (nominal)\n",
            "Feature: Reviews_to_Installs, Type: numerical (continuous)\n"
          ]
        }
      ]
    },
    {
      "cell_type": "markdown",
      "source": [
        "이제 타겟으로 사용할 Rating을 Y에 저장하고, X에서는 포함하지 않도록 하였습니다.\n",
        "\n",
        "Android Ver 같은 경우에는 대부분이 비슷한 버전을 가지고 있고 Last Updated에서 이미 비슷한 성향을 보여서 굳이 겹치는 feature를 사용할 필요가 없어 보여 이를 여기서 제거하고 프로젝트를 진행하였습니다."
      ],
      "metadata": {
        "id": "T2Gm4OEd7F8Z"
      }
    },
    {
      "cell_type": "code",
      "source": [
        "# 타겟 분리\n",
        "y = df['Rating']\n",
        "X = df.drop(columns=['Rating', 'Android Ver'])"
      ],
      "metadata": {
        "id": "i_SmmZA77EQM"
      },
      "execution_count": null,
      "outputs": []
    },
    {
      "cell_type": "markdown",
      "source": [
        "X와 Y로 나누어 타겟을 분리하는 작업을 진행하였습니다. df.head를 통해 확인한 결과, Android Ver는 결과를 예측하는데 큰 도움이 되지 않을 것이라고 생각해서 여기서 drop 하였습니다.\n",
        "\n",
        "(4.5. 학습에 도움이 되지 않는 특징 제외 (feature selection 방법 1개 이상 적용) )"
      ],
      "metadata": {
        "id": "yKnbz6bmembf"
      }
    },
    {
      "cell_type": "code",
      "source": [
        "# 특성과 타겟 분리\n",
        "X = df.drop(columns=['Rating', 'Android Ver']) # 'Android Ver' 제외 # 4.5\n",
        "y = df['Rating']"
      ],
      "metadata": {
        "collapsed": true,
        "id": "KJPT6KIhBHER"
      },
      "execution_count": null,
      "outputs": []
    },
    {
      "cell_type": "markdown",
      "source": [
        "Train data와 test data를 split하였습니다. 랜덤시드는 42로 하였습니다."
      ],
      "metadata": {
        "id": "P2JOl-Z-8Elq"
      }
    },
    {
      "cell_type": "code",
      "source": [
        "X_train, X_test, y_train, y_test = train_test_split(X, y, test_size=0.2, random_state=42)"
      ],
      "metadata": {
        "id": "zkNSnfmUpqYT"
      },
      "execution_count": null,
      "outputs": []
    },
    {
      "cell_type": "markdown",
      "source": [
        "연속형 특징을 이산화하는 작업을 진행했습니다.\n",
        "\n",
        "Installs, Price를 이산화하였습니다."
      ],
      "metadata": {
        "id": "NMwF398I8j49"
      }
    },
    {
      "cell_type": "code",
      "source": [
        "discretizer = KBinsDiscretizer(n_bins=5, encode='ordinal', strategy='uniform')\n",
        "X_train[['Installs', 'Price']] = discretizer.fit_transform(X_train[['Installs', 'Price']])\n",
        "X_test[['Installs', 'Price']] = discretizer.transform(X_test[['Installs', 'Price']])"
      ],
      "metadata": {
        "id": "QXaUF9pq8gUC"
      },
      "execution_count": null,
      "outputs": []
    },
    {
      "cell_type": "markdown",
      "source": [
        "결측치 처리도 진행하였습니다."
      ],
      "metadata": {
        "id": "lwJkevwt8w1G"
      }
    },
    {
      "cell_type": "code",
      "source": [
        "X_train = X_train.fillna(method='ffill')\n",
        "X_test = X_test.fillna(method='ffill')"
      ],
      "metadata": {
        "colab": {
          "base_uri": "https://localhost:8080/"
        },
        "id": "vHDyS6WG8vA4",
        "outputId": "2c371507-fc19-47cd-931b-0514ece7efd3"
      },
      "execution_count": null,
      "outputs": [
        {
          "output_type": "stream",
          "name": "stderr",
          "text": [
            "<ipython-input-21-9a001626ccdd>:1: FutureWarning: DataFrame.fillna with 'method' is deprecated and will raise in a future version. Use obj.ffill() or obj.bfill() instead.\n",
            "  X_train = X_train.fillna(method='ffill')\n",
            "<ipython-input-21-9a001626ccdd>:2: FutureWarning: DataFrame.fillna with 'method' is deprecated and will raise in a future version. Use obj.ffill() or obj.bfill() instead.\n",
            "  X_test = X_test.fillna(method='ffill')\n"
          ]
        }
      ]
    },
    {
      "cell_type": "markdown",
      "source": [
        "Train data를 확인하였습니다. 현재 12개의 column을 사용하고 있음을 확인할 수 있었습니다."
      ],
      "metadata": {
        "id": "zFRO4sRT87_Y"
      }
    },
    {
      "cell_type": "code",
      "source": [
        "print(\"Train dataset overview:\")\n",
        "print(X_train.info())"
      ],
      "metadata": {
        "colab": {
          "base_uri": "https://localhost:8080/"
        },
        "id": "lgYCXKU285Wn",
        "outputId": "5c56cad7-d6b6-4612-aefb-3889e05cc749"
      },
      "execution_count": null,
      "outputs": [
        {
          "output_type": "stream",
          "name": "stdout",
          "text": [
            "Train dataset overview:\n",
            "<class 'pandas.core.frame.DataFrame'>\n",
            "Index: 6303 entries, 10648 to 9947\n",
            "Data columns (total 12 columns):\n",
            " #   Column               Non-Null Count  Dtype  \n",
            "---  ------               --------------  -----  \n",
            " 0   App                  6303 non-null   object \n",
            " 1   Category             6303 non-null   object \n",
            " 2   Reviews              6303 non-null   float64\n",
            " 3   Size                 6303 non-null   float64\n",
            " 4   Installs             6303 non-null   float64\n",
            " 5   Type                 6303 non-null   object \n",
            " 6   Price                6303 non-null   float64\n",
            " 7   Content Rating       6303 non-null   object \n",
            " 8   Genres               6303 non-null   object \n",
            " 9   Last Updated         6303 non-null   object \n",
            " 10  Current Ver          6303 non-null   object \n",
            " 11  Reviews_to_Installs  6303 non-null   float64\n",
            "dtypes: float64(5), object(7)\n",
            "memory usage: 640.1+ KB\n",
            "None\n"
          ]
        }
      ]
    },
    {
      "cell_type": "markdown",
      "source": [
        "numerical feature과 categorical feature를 이렇게 설정하고 파이프라인을 사용하여 특징 스케일링, 범주형 인코딩, Feature Selection을 진행하였습니다."
      ],
      "metadata": {
        "id": "VKgEsmT09TEi"
      }
    },
    {
      "cell_type": "code",
      "source": [
        "numerical_features = ['Reviews', 'Size', 'Installs', 'Price', 'Reviews_to_Installs']\n",
        "categorical_features = ['Category', 'Type', 'Content Rating', 'Genres']\n",
        "\n",
        "numerical_transformer = Pipeline(steps=[\n",
        "    ('scaler', StandardScaler())\n",
        "])\n",
        "\n",
        "categorical_transformer = Pipeline(steps=[\n",
        "    ('onehot', OneHotEncoder(handle_unknown='ignore'))\n",
        "])\n",
        "\n",
        "preprocessor = ColumnTransformer(\n",
        "    transformers=[\n",
        "        ('num', numerical_transformer, numerical_features),\n",
        "        ('cat', categorical_transformer, categorical_features)\n",
        "    ]\n",
        ")"
      ],
      "metadata": {
        "id": "q16So4Bx9Qo_"
      },
      "execution_count": null,
      "outputs": []
    },
    {
      "cell_type": "markdown",
      "source": [
        "파이프라인을 정의하고 SelectKBest에서 f_regression을 사용해서 가장 관련성이 높은 10개의 feature를 선택했습니다.\n",
        "\n",
        "훈련 데이터에 대해 파이프라인을 학습시키고, 테스트 데이터에 대해서는 학습된 파이프라인을 사용하여 변환했습니다.\n",
        "\n",
        "또한 차후에 feature selection을 적용하지 않은 버전도 가지고 있어서 그것으로도 train을 해보고 결과를 비교해보기 위해 feature selection 미적용 버전도 따로 저장하는 방식을 사용하였습니다.\n",
        "\n",
        "이 결과는 print하여 확인할 수 있도록 하였습니다."
      ],
      "metadata": {
        "id": "PAP0yewkMtmr"
      }
    },
    {
      "cell_type": "code",
      "source": [
        "# 파이프라인 1: Feature Selection 적용 버전\n",
        "pipeline_with_fs = Pipeline(steps=[\n",
        "    ('preprocessor', preprocessor),\n",
        "    ('feature_selection', SelectKBest(score_func=f_regression, k=10))\n",
        "])\n",
        "\n",
        "# 파이프라인 2: Feature Selection 미적용 버전\n",
        "pipeline_no_fs = Pipeline(steps=[\n",
        "    ('preprocessor', preprocessor)  # feature_selection 단계 없음\n",
        "])\n",
        "\n",
        "# 파이프라인 적용 및 변환\n",
        "X_train_transformed = pipeline_with_fs.fit_transform(X_train, y_train)\n",
        "X_test_transformed = pipeline_with_fs.transform(X_test)\n",
        "\n",
        "X_train_transformed_no_fs = pipeline_no_fs.fit_transform(X_train, y_train)\n",
        "X_test_transformed_no_fs = pipeline_no_fs.transform(X_test)\n",
        "\n",
        "# 결과 확인\n",
        "print(\"With Feature Selection:\")\n",
        "print(\"X_train_transformed shape:\", X_train_transformed.shape)\n",
        "print(\"X_test_transformed shape:\", X_test_transformed.shape)\n",
        "\n",
        "print(\"\\nWithout Feature Selection:\")\n",
        "print(\"X_train_transformed_no_fs shape:\", X_train_transformed_no_fs.shape)\n",
        "print(\"X_test_transformed_no_fs shape:\", X_test_transformed_no_fs.shape)"
      ],
      "metadata": {
        "colab": {
          "base_uri": "https://localhost:8080/"
        },
        "id": "R4ARAvx2K2jW",
        "outputId": "33ef466a-dffd-40d4-fb01-f764c7c7d5a9"
      },
      "execution_count": null,
      "outputs": [
        {
          "output_type": "stream",
          "name": "stdout",
          "text": [
            "With Feature Selection:\n",
            "X_train_transformed shape: (6303, 10)\n",
            "X_test_transformed shape: (1576, 10)\n",
            "\n",
            "Without Feature Selection:\n",
            "X_train_transformed_no_fs shape: (6303, 149)\n",
            "X_test_transformed_no_fs shape: (1576, 149)\n"
          ]
        }
      ]
    },
    {
      "cell_type": "markdown",
      "source": [
        "Ridge Regression을 baseline model로 결정하였습니다. 비교적 간단한 모델에 속하기 때문에 이를 선택했습니다.\n",
        "alpha 값은 2.0으로 설정하고 solver는 auto 대신 sag를 사용하였습니다.\n",
        "\n",
        "나머지 4개의 model은 lasso, decision tree, random forest, gradient boosting을 사용하였습니다. 앙상블 모델인 랜덤포레스트와 그래디언트 부스팅을 사용했습니다. 랜덤시드는 42로 하였습니다.\n",
        "\n",
        "K-fold를 만들어서 5개로 split하고 random state는 42로 고정하여 사용할 수 있도록 하였습니다..\n",
        "\n",
        "성능비교를 위해 model results를 만들어서 여기에 결과를 저장하도록 하였습니다."
      ],
      "metadata": {
        "id": "uO2a5PxTqTja"
      }
    },
    {
      "cell_type": "code",
      "source": [
        "from sklearn.linear_model import Ridge, Lasso\n",
        "from sklearn.tree import DecisionTreeRegressor\n",
        "from sklearn.ensemble import RandomForestRegressor, GradientBoostingRegressor\n",
        "from sklearn.model_selection import cross_val_score, KFold\n",
        "from sklearn.metrics import mean_squared_error, mean_absolute_error, r2_score\n",
        "import numpy as np\n",
        "\n",
        "np.random.seed(42)  # 시드 설정\n",
        "\n",
        "baseline_model = Ridge(alpha=2.0, solver='sag', random_state=42)\n",
        "\n",
        "model_candidates = {\n",
        "    \"Baseline_Ridge\": baseline_model,\n",
        "    \"Lasso\": Lasso(alpha=0.1, random_state=42),\n",
        "    \"DecisionTree\": DecisionTreeRegressor(max_depth=10, random_state=42),\n",
        "    \"RandomForest\": RandomForestRegressor(n_estimators=100, max_depth=10, random_state=42),\n",
        "    \"GradientBoosting\": GradientBoostingRegressor(n_estimators=100, learning_rate=0.1, max_depth=3, random_state=42)\n",
        "}\n",
        "\n",
        "# K-Fold 설정\n",
        "kfold = KFold(n_splits=5, shuffle=True, random_state=42)\n",
        "\n",
        "# 성능 비교를 위한 결과 저장용 딕셔너리\n",
        "model_results = {}"
      ],
      "metadata": {
        "collapsed": true,
        "id": "kbxTdx16-8tC"
      },
      "execution_count": null,
      "outputs": []
    },
    {
      "cell_type": "markdown",
      "source": [
        "5-Fold cross validation을 사용하여 성능을 측정하였습니다. for문을 사용해서"
      ],
      "metadata": {
        "id": "mAWKU8G9F5Rr"
      }
    },
    {
      "cell_type": "code",
      "source": [
        "# 5-Fold CV를 통한 성능 측정\n",
        "for model_name, model in model_candidates.items():\n",
        "    # cross_val_score는 기본적으로 scoring='r2'를 사용할 수 있음.\n",
        "    # 여기서는 R^2, MSE, MAE 모두 측정해보겠다.\n",
        "\n",
        "    # R^2 점수\n",
        "    r2_scores = cross_val_score(model, X_train_transformed, y_train, cv=kfold, scoring='r2')\n",
        "    # MSE 점수 (음수 형태로 반환되므로 부호 변환)\n",
        "    neg_mse_scores = cross_val_score(model, X_train_transformed, y_train, cv=kfold, scoring='neg_mean_squared_error')\n",
        "    mse_scores = -neg_mse_scores\n",
        "    # MAE 점수 (음수 형태로 반환되므로 부호 변환)\n",
        "    neg_mae_scores = cross_val_score(model, X_train_transformed, y_train, cv=kfold, scoring='neg_mean_absolute_error')\n",
        "    mae_scores = -neg_mae_scores\n",
        "\n",
        "    model_results[model_name] = {\n",
        "        \"R2_mean\": np.mean(r2_scores),\n",
        "        \"R2_std\": np.std(r2_scores),\n",
        "        \"MSE_mean\": np.mean(mse_scores),\n",
        "        \"MSE_std\": np.std(mse_scores),\n",
        "        \"MAE_mean\": np.mean(mae_scores),\n",
        "        \"MAE_std\": np.std(mae_scores)\n",
        "    }"
      ],
      "metadata": {
        "id": "9zI0ERbWF5C8"
      },
      "execution_count": null,
      "outputs": []
    },
    {
      "cell_type": "code",
      "source": [
        "# 결과 출력\n",
        "print(\"Model Performance (5-Fold CV):\")\n",
        "for model_name, scores in model_results.items():\n",
        "    print(f\"Model: {model_name}\")\n",
        "    print(f\"  R2: {scores['R2_mean']:.4f} ± {scores['R2_std']:.4f}\")\n",
        "    print(f\"  MSE: {scores['MSE_mean']:.4f} ± {scores['MSE_std']:.4f}\")\n",
        "    print(f\"  MAE: {scores['MAE_mean']:.4f} ± {scores['MAE_std']:.4f}\")\n",
        "    print(\"\")"
      ],
      "metadata": {
        "colab": {
          "base_uri": "https://localhost:8080/"
        },
        "id": "WZGK3tsuGP9y",
        "outputId": "c35b0295-ca5f-4d91-e15c-cb7521bdd143"
      },
      "execution_count": null,
      "outputs": [
        {
          "output_type": "stream",
          "name": "stdout",
          "text": [
            "Model Performance (5-Fold CV):\n",
            "Model: Baseline_Ridge\n",
            "  R2: 0.0390 ± 0.0093\n",
            "  MSE: 0.2847 ± 0.0244\n",
            "  MAE: 0.3802 ± 0.0115\n",
            "\n",
            "Model: Lasso\n",
            "  R2: -0.0002 ± 0.0002\n",
            "  MSE: 0.2962 ± 0.0233\n",
            "  MAE: 0.3878 ± 0.0110\n",
            "\n",
            "Model: DecisionTree\n",
            "  R2: 0.0295 ± 0.0300\n",
            "  MSE: 0.2875 ± 0.0256\n",
            "  MAE: 0.3771 ± 0.0112\n",
            "\n",
            "Model: RandomForest\n",
            "  R2: 0.0383 ± 0.0133\n",
            "  MSE: 0.2849 ± 0.0241\n",
            "  MAE: 0.3769 ± 0.0109\n",
            "\n",
            "Model: GradientBoosting\n",
            "  R2: 0.0403 ± 0.0256\n",
            "  MSE: 0.2843 ± 0.0245\n",
            "  MAE: 0.3759 ± 0.0114\n",
            "\n"
          ]
        }
      ]
    },
    {
      "cell_type": "markdown",
      "source": [
        "R2는 모델이 타겟 변수의 변동성을 얼마나 설명하는지를 나타내는 지표입니다. 1에 가까울수록 모델이 데이터를 잘 설명한다는 의미입니다.\n",
        "MSE는 예측값과 실제값 간의 차이의 제곱 평균입니다. 값이 작을수록 예측이 실제에 가깝습니다.\n",
        "MAE는 예측값과 실제값 간의 절대적인 차이의 평균입니다. 값이 작을수록 예측이 정확함을 의미합니다.\n",
        "\n",
        "R2는 1에 가까울수록 좋고, MSE, MAE의 경우에는 작을수록 좋은 성능을 가지는 것을 나타냅니다.\n",
        "\n",
        "모든 모델의 MSE와 MAE 값이 유사한 수준을 유지하고 있습니다.\n",
        "GradientBoosting이 가장 낮은 MSE와 MAE 값을 기록했으며, 이는 예측 오차가 가장 작음을 의미합니다.\n",
        "Lasso는 MSE와 MAE 값이 가장 높아 다른 모델들보다 예측 성능이 떨어집니다.\n",
        "\n",
        "**앙상블 방법과 CV 성능 비교 및 분석**\n",
        "\n",
        "본 실험에서 사용된 앙상블 모델은 RandomForest와 GradientBoosting입니다. 이 두 모델은 일반적으로 다수의 결정 트리를 결합하여 보다 강력한 예측 성능을 발휘하는 특징을 가지고 있습니다.\n",
        "\n",
        "**앙상블 모델 분석**\n",
        "\n",
        "앙상블 모델인 GradientBoosting과 RandomForest는 비앙상블 모델인 Baseline_Ridge와 DecisionTree에 비해 약간 더 높은 R² 값을 기록하였습니다.\n",
        "Lasso는 모든 모델 중 가장 낮은 성능을 보였으며, 이는 Lasso가 현재 데이터셋에서는 효과적이지 않음을 보여줍니다.\n",
        "앙상블 모델들이 단일 모델에 비해 약간의 성능 향상을 보였습니다."
      ],
      "metadata": {
        "id": "z82zYQGvgnC5"
      }
    },
    {
      "cell_type": "markdown",
      "source": [
        "다음으로는 각 모델을 학습시킬 때 다양한 파라미터를 사용하여 이를 비교하고, 각 모델에서 어떤 파라미터를 사용했을 때 더 좋은 결과가 나오는지 확인할 수 있도록 param_grids에 max_depth, alpha, learning rate같은 것들을 다양하게 변화시키며 최적의 결과를 CV 테스트 할 수 있도록 하였습니다. 모델의 성능은 우선 R2를 기준으로 best parameter를 구해내는 방법을 사용하였습니다. 디폴트 모델에도 다양한 파라미터를 제공하였습니다.\n",
        "\n",
        "그리드 서치 방법을 사용하는 방향으로 진행하였습니다.\n",
        "\n",
        "feature selection을 한 버전과 하지 않은 버전 두가지 모두 같은 방식으로 테스트를 진행하여 feature selection을 한것이 어떠한 영향을 미치는지도 확인할 수 있도록 하였습니다."
      ],
      "metadata": {
        "id": "GZPhtSlXAMgr"
      }
    },
    {
      "cell_type": "code",
      "source": [
        "import numpy as np\n",
        "from sklearn.linear_model import Ridge, Lasso\n",
        "from sklearn.tree import DecisionTreeRegressor\n",
        "from sklearn.ensemble import RandomForestRegressor, GradientBoostingRegressor\n",
        "from sklearn.model_selection import KFold, GridSearchCV\n",
        "from sklearn.metrics import make_scorer, r2_score, mean_squared_error, mean_absolute_error\n",
        "\n",
        "np.random.seed(42)  # 랜덤시드 설정\n",
        "r2_scorer = make_scorer(r2_score)\n",
        "\n",
        "param_grids = {\n",
        "    \"Baseline_Ridge\": {\n",
        "        \"alpha\": [1.0, 2.0, 5.0],\n",
        "        \"solver\": [\"sag\", \"lsqr\"]\n",
        "    },\n",
        "    \"Lasso\": {\n",
        "        \"alpha\": [0.01, 0.1, 0.5, 1.0]\n",
        "    },\n",
        "    \"DecisionTree\": {\n",
        "        \"max_depth\": [5, 10, 20],\n",
        "        \"min_samples_split\": [2, 5, 10]\n",
        "    },\n",
        "    \"RandomForest\": {\n",
        "        \"n_estimators\": [50, 100],\n",
        "        \"max_depth\": [5, 10, 20],\n",
        "        \"min_samples_split\": [2, 5]\n",
        "    },\n",
        "    \"GradientBoosting\": {\n",
        "        \"n_estimators\": [50, 100],\n",
        "        \"learning_rate\": [0.05, 0.1],\n",
        "        \"max_depth\": [3, 5, 10, 20]\n",
        "    }\n",
        "}\n",
        "\n",
        "# 모델 초기화\n",
        "models = {\n",
        "    \"Baseline_Ridge\": Ridge(alpha=2.0, solver='sag', random_state=42),\n",
        "    \"Lasso\": Lasso(random_state=42),\n",
        "    \"DecisionTree\": DecisionTreeRegressor(random_state=42),\n",
        "    \"RandomForest\": RandomForestRegressor(random_state=42),\n",
        "    \"GradientBoosting\": GradientBoostingRegressor(random_state=42)\n",
        "}\n",
        "\n",
        "kfold = KFold(n_splits=5, shuffle=True, random_state=42)\n",
        "\n",
        "best_models = {}\n",
        "best_models_no_fs = {}\n",
        "results = {}\n",
        "results_no_fs = {}"
      ],
      "metadata": {
        "id": "PvdH7T4IHZNV"
      },
      "execution_count": null,
      "outputs": []
    },
    {
      "cell_type": "markdown",
      "source": [
        "Feature selection을 진행한 버전으로 학습한 경우입니다."
      ],
      "metadata": {
        "id": "eZyQGs7sE4pX"
      }
    },
    {
      "cell_type": "code",
      "source": [
        "for model_name, model in models.items():\n",
        "    print(f\"Running GridSearch for {model_name}...\")\n",
        "    grid_search = GridSearchCV(\n",
        "        estimator=model,\n",
        "        param_grid=param_grids[model_name],\n",
        "        scoring='r2',\n",
        "        cv=kfold,\n",
        "        n_jobs=-1,\n",
        "        verbose=1\n",
        "    )\n",
        "    grid_search.fit(X_train_transformed, y_train)\n",
        "\n",
        "    best_models[model_name] = grid_search.best_estimator_\n",
        "    print(f\"{model_name} best params: {grid_search.best_params_}\")\n",
        "    print(f\"{model_name} best score (R2): {grid_search.best_score_:.4f}\")\n",
        "\n",
        "    from sklearn.model_selection import cross_val_score\n",
        "\n",
        "    mse_scores = -cross_val_score(best_models[model_name], X_train_transformed, y_train, cv=kfold, scoring='neg_mean_squared_error')\n",
        "    mae_scores = -cross_val_score(best_models[model_name], X_train_transformed, y_train, cv=kfold, scoring='neg_mean_absolute_error')\n",
        "\n",
        "    results[model_name] = {\n",
        "        \"Best_Params\": grid_search.best_params_,\n",
        "        \"R2_mean\": grid_search.best_score_,\n",
        "        \"R2_std\": np.std(cross_val_score(best_models[model_name], X_train_transformed, y_train, cv=kfold, scoring='r2')),\n",
        "        \"MSE_mean\": np.mean(mse_scores),\n",
        "        \"MSE_std\": np.std(mse_scores),\n",
        "        \"MAE_mean\": np.mean(mae_scores),\n",
        "        \"MAE_std\": np.std(mae_scores)\n",
        "    }\n",
        "\n",
        "# 결과 출력\n",
        "print(\"\\nFinal CV Results after Parameter Tuning:\")\n",
        "for model_name, score_dict in results.items():\n",
        "    print(f\"Model: {model_name}\")\n",
        "    print(f\"  Best Params: {score_dict['Best_Params']}\")\n",
        "    print(f\"  R2: {score_dict['R2_mean']:.4f} ± {score_dict['R2_std']:.4f}\")\n",
        "    print(f\"  MSE: {score_dict['MSE_mean']:.4f} ± {score_dict['MSE_std']:.4f}\")\n",
        "    print(f\"  MAE: {score_dict['MAE_mean']:.4f} ± {score_dict['MAE_std']:.4f}\")\n",
        "    print(\"\")\n"
      ],
      "metadata": {
        "colab": {
          "base_uri": "https://localhost:8080/"
        },
        "id": "vJhd6wdR7AqS",
        "outputId": "c4e53ab9-7513-47d0-a05f-d7bb54a5eed8"
      },
      "execution_count": null,
      "outputs": [
        {
          "output_type": "stream",
          "name": "stdout",
          "text": [
            "Running GridSearch for Baseline_Ridge...\n",
            "Fitting 5 folds for each of 6 candidates, totalling 30 fits\n",
            "Baseline_Ridge best params: {'alpha': 5.0, 'solver': 'lsqr'}\n",
            "Baseline_Ridge best score (R2): 0.0391\n",
            "Running GridSearch for Lasso...\n",
            "Fitting 5 folds for each of 4 candidates, totalling 20 fits\n",
            "Lasso best params: {'alpha': 0.01}\n",
            "Lasso best score (R2): 0.0234\n",
            "Running GridSearch for DecisionTree...\n",
            "Fitting 5 folds for each of 9 candidates, totalling 45 fits\n",
            "DecisionTree best params: {'max_depth': 5, 'min_samples_split': 2}\n",
            "DecisionTree best score (R2): 0.0459\n",
            "Running GridSearch for RandomForest...\n",
            "Fitting 5 folds for each of 12 candidates, totalling 60 fits\n",
            "RandomForest best params: {'max_depth': 5, 'min_samples_split': 2, 'n_estimators': 50}\n",
            "RandomForest best score (R2): 0.0528\n",
            "Running GridSearch for GradientBoosting...\n",
            "Fitting 5 folds for each of 16 candidates, totalling 80 fits\n",
            "GradientBoosting best params: {'learning_rate': 0.05, 'max_depth': 3, 'n_estimators': 50}\n",
            "GradientBoosting best score (R2): 0.0529\n",
            "\n",
            "Final CV Results after Parameter Tuning:\n",
            "Model: Baseline_Ridge\n",
            "  Best Params: {'alpha': 5.0, 'solver': 'lsqr'}\n",
            "  R2: 0.0391 ± 0.0093\n",
            "  MSE: 0.2847 ± 0.0244\n",
            "  MAE: 0.3802 ± 0.0116\n",
            "\n",
            "Model: Lasso\n",
            "  Best Params: {'alpha': 0.01}\n",
            "  R2: 0.0234 ± 0.0047\n",
            "  MSE: 0.2892 ± 0.0235\n",
            "  MAE: 0.3822 ± 0.0114\n",
            "\n",
            "Model: DecisionTree\n",
            "  Best Params: {'max_depth': 5, 'min_samples_split': 2}\n",
            "  R2: 0.0459 ± 0.0135\n",
            "  MSE: 0.2826 ± 0.0233\n",
            "  MAE: 0.3764 ± 0.0106\n",
            "\n",
            "Model: RandomForest\n",
            "  Best Params: {'max_depth': 5, 'min_samples_split': 2, 'n_estimators': 50}\n",
            "  R2: 0.0528 ± 0.0131\n",
            "  MSE: 0.2806 ± 0.0236\n",
            "  MAE: 0.3752 ± 0.0109\n",
            "\n",
            "Model: GradientBoosting\n",
            "  Best Params: {'learning_rate': 0.05, 'max_depth': 3, 'n_estimators': 50}\n",
            "  R2: 0.0529 ± 0.0087\n",
            "  MSE: 0.2805 ± 0.0230\n",
            "  MAE: 0.3756 ± 0.0114\n",
            "\n"
          ]
        }
      ]
    },
    {
      "cell_type": "markdown",
      "source": [
        "Feature selection을 하지 않은 버전으로 학습한 경우입니다."
      ],
      "metadata": {
        "id": "gmlzJz7AExNs"
      }
    },
    {
      "cell_type": "code",
      "source": [
        "for model_name, model in models.items():\n",
        "    print(f\"Running GridSearch for {model_name}...\")\n",
        "    grid_search = GridSearchCV(\n",
        "        estimator=model,\n",
        "        param_grid=param_grids[model_name],\n",
        "        scoring='r2',\n",
        "        cv=kfold,\n",
        "        n_jobs=-1,\n",
        "        verbose=1\n",
        "    )\n",
        "    grid_search.fit(X_train_transformed, y_train)\n",
        "\n",
        "    best_models_no_fs[model_name] = grid_search.best_estimator_\n",
        "    print(f\"{model_name} best params: {grid_search.best_params_}\")\n",
        "    print(f\"{model_name} best score (R2): {grid_search.best_score_:.4f}\")\n",
        "\n",
        "    from sklearn.model_selection import cross_val_score\n",
        "\n",
        "    mse_scores = -cross_val_score(best_models_no_fs[model_name], X_train_transformed_no_fs, y_train, cv=kfold, scoring='neg_mean_squared_error')\n",
        "    mae_scores = -cross_val_score(best_models_no_fs[model_name], X_train_transformed_no_fs, y_train, cv=kfold, scoring='neg_mean_absolute_error')\n",
        "\n",
        "    results_no_fs[model_name] = {\n",
        "        \"Best_Params\": grid_search.best_params_,\n",
        "        \"R2_mean\": grid_search.best_score_,\n",
        "        \"R2_std\": np.std(cross_val_score(best_models_no_fs[model_name], X_train_transformed_no_fs, y_train, cv=kfold, scoring='r2')),\n",
        "        \"MSE_mean\": np.mean(mse_scores),\n",
        "        \"MSE_std\": np.std(mse_scores),\n",
        "        \"MAE_mean\": np.mean(mae_scores),\n",
        "        \"MAE_std\": np.std(mae_scores)\n",
        "    }\n",
        "\n",
        "# 결과 출력\n",
        "print(\"\\nFinal CV Results after Parameter Tuning:\")\n",
        "for model_name, score_dict in results_no_fs.items():\n",
        "    print(f\"Model: {model_name}\")\n",
        "    print(f\"  Best Params: {score_dict['Best_Params']}\")\n",
        "    print(f\"  R2: {score_dict['R2_mean']:.4f} ± {score_dict['R2_std']:.4f}\")\n",
        "    print(f\"  MSE: {score_dict['MSE_mean']:.4f} ± {score_dict['MSE_std']:.4f}\")\n",
        "    print(f\"  MAE: {score_dict['MAE_mean']:.4f} ± {score_dict['MAE_std']:.4f}\")\n",
        "    print(\"\")\n"
      ],
      "metadata": {
        "colab": {
          "base_uri": "https://localhost:8080/"
        },
        "id": "AUVTnhH-8kAH",
        "outputId": "35b15810-f478-438a-ea6f-6966dd3cdac5"
      },
      "execution_count": null,
      "outputs": [
        {
          "output_type": "stream",
          "name": "stdout",
          "text": [
            "Running GridSearch for Baseline_Ridge...\n",
            "Fitting 5 folds for each of 6 candidates, totalling 30 fits\n",
            "Baseline_Ridge best params: {'alpha': 5.0, 'solver': 'lsqr'}\n",
            "Baseline_Ridge best score (R2): 0.0391\n",
            "Running GridSearch for Lasso...\n",
            "Fitting 5 folds for each of 4 candidates, totalling 20 fits\n",
            "Lasso best params: {'alpha': 0.01}\n",
            "Lasso best score (R2): 0.0234\n",
            "Running GridSearch for DecisionTree...\n",
            "Fitting 5 folds for each of 9 candidates, totalling 45 fits\n",
            "DecisionTree best params: {'max_depth': 5, 'min_samples_split': 2}\n",
            "DecisionTree best score (R2): 0.0459\n",
            "Running GridSearch for RandomForest...\n",
            "Fitting 5 folds for each of 12 candidates, totalling 60 fits\n",
            "RandomForest best params: {'max_depth': 5, 'min_samples_split': 2, 'n_estimators': 50}\n",
            "RandomForest best score (R2): 0.0528\n",
            "Running GridSearch for GradientBoosting...\n",
            "Fitting 5 folds for each of 16 candidates, totalling 80 fits\n",
            "GradientBoosting best params: {'learning_rate': 0.05, 'max_depth': 3, 'n_estimators': 50}\n",
            "GradientBoosting best score (R2): 0.0529\n",
            "\n",
            "Final CV Results after Parameter Tuning:\n",
            "Model: Baseline_Ridge\n",
            "  Best Params: {'alpha': 5.0, 'solver': 'lsqr'}\n",
            "  R2: 0.0391 ± 0.0097\n",
            "  MSE: 0.2809 ± 0.0240\n",
            "  MAE: 0.3769 ± 0.0111\n",
            "\n",
            "Model: Lasso\n",
            "  Best Params: {'alpha': 0.01}\n",
            "  R2: 0.0234 ± 0.0042\n",
            "  MSE: 0.2893 ± 0.0234\n",
            "  MAE: 0.3823 ± 0.0114\n",
            "\n",
            "Model: DecisionTree\n",
            "  Best Params: {'max_depth': 5, 'min_samples_split': 2}\n",
            "  R2: 0.0459 ± 0.0245\n",
            "  MSE: 0.2850 ± 0.0238\n",
            "  MAE: 0.3753 ± 0.0126\n",
            "\n",
            "Model: RandomForest\n",
            "  Best Params: {'max_depth': 5, 'min_samples_split': 2, 'n_estimators': 50}\n",
            "  R2: 0.0528 ± 0.0222\n",
            "  MSE: 0.2767 ± 0.0245\n",
            "  MAE: 0.3706 ± 0.0121\n",
            "\n",
            "Model: GradientBoosting\n",
            "  Best Params: {'learning_rate': 0.05, 'max_depth': 3, 'n_estimators': 50}\n",
            "  R2: 0.0529 ± 0.0150\n",
            "  MSE: 0.2771 ± 0.0237\n",
            "  MAE: 0.3721 ± 0.0116\n",
            "\n"
          ]
        }
      ]
    },
    {
      "cell_type": "markdown",
      "source": [
        "feature selection을 진행한 것과 진행하지 않은 것에 대한 차이는 이번 데이터셋에서는 사실 크게 나타나지 않았습니다. 애초에 존재했던 feature의 수가 12개 정도였고 이번 텀 프로젝트에서의 최소한의 feature 조건이 10개였기 때문에 사실상 학습을 할 때 큰 차이가 없었기 때문에 이러한 결과가 나온 것으로 보입니다."
      ],
      "metadata": {
        "id": "ek1JY-bWE9xh"
      }
    },
    {
      "cell_type": "markdown",
      "source": [
        "**실험 결과 분석**\n",
        "\n",
        "비교에 사용된 모델의 CV 성능 비교 및 분석\n",
        "\n",
        "본 실험에서는 Baseline_Ridge, Lasso, DecisionTree, RandomForest, GradientBoosting의 총 5개 회귀 모델을 사용하여 Google Play Store 데이터셋의 Rating을 예측하였습니다.\n",
        "\n",
        "GradientBoosting과 RandomForest가 가장 높은 R² 값을 기록하였으며, Baseline_Ridge와 DecisionTree는 그보다 약간 낮았습니다.\n",
        "Lasso는 상대적으로 낮은 R² 값을 보였고, 평균보다 조금 좋은 성능을 보였습니다.\n",
        "\n",
        "모든 모델의 MSE와 MAE 값이 유사한 수준을 유지하며, GradientBoosting과 RandomForest가 가장 낮은 값을 기록했습니다.\n",
        "Baseline_Ridge와 DecisionTree는 약간 높은 MSE와 MAE 값을 보였으며, Lasso는 가장 높은 값을 기록하여 예측 성능이 다소 떨어졌습니다.\n",
        "\n",
        "결론\n",
        "\n",
        "GradientBoosting과 RandomForest는 다른 모델들에 비해 상대적으로 더 우수한 성능을 보였습니다.\n",
        "Lasso는 다른 모델들에 비해 낮은 성능을 보였으며, 이는 Lasso가 현재 데이터셋에서는 특성 선택에 효과적이지 않을 수 있음을 시사합니다.\n",
        "전반적으로, 모든 모델의 R² 값이 낮기 때문에 데이터의 한계나 모델링 과정에서의 개선이 필요함을 나타냅니다.\n",
        "\n",
        "앙상블 방법과 CV 성능 비교 및 분석\n",
        "본 실험에서 사용된 앙상블 모델은 RandomForest와 GradientBoosting입니다. 이 두 모델은 다수의 결정 트리를 결합하여 보다 강력한 예측 성능을 발휘합니다.\n",
        "\n",
        "앙상블 모델의 성능:\n",
        "\n",
        "RandomForest: R² = 0.0528, MSE = 0.2806, MAE = 0.3752\n",
        "GradientBoosting: R² = 0.0529, MSE = 0.2805, MAE = 0.3756\n",
        "\n",
        "비앙상블 모델의 성능:\n",
        "\n",
        "Baseline_Ridge: R² = 0.0391, MSE = 0.2847, MAE = 0.3802\n",
        "Lasso: R² = 0.0234, MSE = 0.2892, MAE = 0.3822\n",
        "DecisionTree: R² = 0.0459, MSE = 0.2826, MAE = 0.3764\n",
        "\n",
        "분석:\n",
        "\n",
        "GradientBoosting과 RandomForest는 Baseline_Ridge, Lasso, DecisionTree에 비해 더 높은 R² 값을 기록하였습니다.\n",
        "앙상블 모델들은 MSE와 MAE가 낮아 예측 오차가 더 작습니다.\n",
        "이 결과는 앙상블 방법이 개별 모델에 비해 더 나은 일반화 성능과 예측력을 제공함을 보여주었습니다.\n",
        "\n",
        "결론:\n",
        "\n",
        "앙상블 모델인 GradientBoosting과 RandomForest가 비앙상블 모델에 비해 일관되게 더 나은 성능을 보였습니다.\n",
        "따라서, 본 데이터셋에서는 앙상블 모델들이 더 효과적임을 확인할 수 있습니다."
      ],
      "metadata": {
        "id": "M2LUYL96F5K2"
      }
    },
    {
      "cell_type": "markdown",
      "source": [
        "마지막으로 최종 모델을 선정하여test-set 성능을 측정하였습니다.\n",
        "\n",
        "최적의 모델로 선정된 GradientBoosting 중 파라미터가 learning_rate가 0.05, max_depth가 3, n_estimators가 50인 모델로 마지막 테스트를 진행하였습니다."
      ],
      "metadata": {
        "id": "VK-KZFW8Hd5O"
      }
    },
    {
      "cell_type": "code",
      "source": [
        "from sklearn.metrics import r2_score, mean_squared_error, mean_absolute_error\n",
        "from sklearn.ensemble import GradientBoostingRegressor\n",
        "\n",
        "# GridSearch를 통해 선정한 최적 파라미터 (예: 아래와 같다고 가정)\n",
        "best_params = {'learning_rate': 0.05, 'max_depth': 3, 'n_estimators': 50}\n",
        "\n",
        "# 최종 모델 생성 (최적 파라미터 적용)\n",
        "final_model = GradientBoostingRegressor(\n",
        "    learning_rate=best_params['learning_rate'],\n",
        "    max_depth=best_params['max_depth'],\n",
        "    n_estimators=best_params['n_estimators'],\n",
        "    random_state=42\n",
        ")\n",
        "\n",
        "# 최종 모델 학습\n",
        "final_model.fit(X_train_transformed, y_train)\n",
        "\n",
        "# 테스트 세트 예측\n",
        "y_pred = final_model.predict(X_test_transformed)\n",
        "\n",
        "# 성능 평가\n",
        "final_r2 = r2_score(y_test, y_pred)\n",
        "final_mse = mean_squared_error(y_test, y_pred)\n",
        "final_mae = mean_absolute_error(y_test, y_pred)\n",
        "\n",
        "print(\"Final Model Performance on Test Set:\")\n",
        "print(f\"R2 Score: {final_r2:.4f}\")\n",
        "print(f\"MSE: {final_mse:.4f}\")\n",
        "print(f\"MAE: {final_mae:.4f}\")\n"
      ],
      "metadata": {
        "colab": {
          "base_uri": "https://localhost:8080/"
        },
        "id": "H3YwkWPLHV1H",
        "outputId": "14d44656-d9fd-4a7e-9f6a-282a329d4190"
      },
      "execution_count": null,
      "outputs": [
        {
          "output_type": "stream",
          "name": "stdout",
          "text": [
            "Final Model Performance on Test Set:\n",
            "R2 Score: 0.0199\n",
            "MSE: 0.4083\n",
            "MAE: 0.3797\n"
          ]
        }
      ]
    },
    {
      "cell_type": "markdown",
      "source": [
        "\n",
        "MSE는 예측값과 실제값의 차이를 제곱한 후 평균한 값으로, 0에 가까울수록 좋습니다.\n",
        "Rating 범위가 일반적으로 0~5 사이를 생각했을 때 아주 좋은 결과가 나온 것 같지는 않습니다.\n",
        "\n",
        "MAE는 예측값과 실제값의 차이의 절댓값을 평균한 것으로, 이 값 또한 0에 가까울수록 좋습니다. MAE 0.3797은 평균적으로 약 0.38 정도의 오차를 보인다는 뜻입니다.\n",
        "Rating이 0에서 5 사이인 것을 감안하였을 때, 0.38 정도의 오차는 적당한 정도의 성능을 보여준 것으로 생각됩니다.\n",
        "\n",
        "R2의 경우에는 테스트 셋으로 성능을 측정한 결과는 이전에 train set으로 테스트를 하였을 때보다 더 안좋은 결과를 보였습니다.\n",
        "\n",
        "단순히 앱 사용자와 업데이트 날짜, 앱의 크기가 평점에 아주 영향을 주는 것으로는 보이지 않는 것 같습니다. 사실 다운로드 수가 많은 어플의 경우에도 많은 사람들이 사용을 하기 때문에 보편적으로 사용되지만 평점이 좋지 않은 경우가 있고, 일부 사람에게만 쓰이지만 확실한 충성고객을 가진 앱이라면 더 좋은 평점을 받을 수 있기 때문에 아주 큰 연관성을 보이는 것 같지는 않습니다. 하지만 last updated와 current version, 그리고 특정 genre를 선호하는 사람들은 평점을 좋게 주거나 주지 않는 경향성이 있기 때문에 그러한 부분에서는 유의미한 차이가 존재할 수 있고 그럼에 따라 다음과 같이 어느 정도는 평점을 크게 빗나가지 않는 선에서 예측할 수 있는 모델이 나온 것으로 판단됩니다.\n",
        "\n",
        "이번 프로젝트에서 CV를 하는 과정에서 앙상블 모델이 타 모델에 비해 더 좋은 결과를 가져오는 것을 확인할 수 있었고 feature selection의 방법 또한 중요하다는 것을 확인할 수 있었습니다. 또한 다양한 파라미터를 활용하여 학습을 한다면 더욱 좋고 정확한 결과를 얻을 수 있음을 확인할 수 있었고 데이터전처리 과정의 중요성 또한 확인할 수 있는 프로젝트였습니다. 데이터전처리를 진행하는 과정에서 one-hot encoding, 연속형 특징 이산화, 범주형 특징 변환 등 다양한 방법을 활용할 수 있는 기회가 되었습니다. 또한 데이터시각화를 통해 현재 feature들이 어떻게 존재하는지, feature들간의 관계를 더욱 쉽게 눈으로 확인할 수 있었습니다."
      ],
      "metadata": {
        "id": "9HKNE9ACIlmK"
      }
    }
  ]
}